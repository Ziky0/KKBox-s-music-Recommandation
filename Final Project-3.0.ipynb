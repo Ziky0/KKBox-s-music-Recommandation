{
 "cells": [
  {
   "cell_type": "code",
   "execution_count": 1,
   "id": "6b2f925e",
   "metadata": {},
   "outputs": [],
   "source": [
    "import pandas as pd\n",
    "import numpy as np\n",
    "import matplotlib.pyplot as plt\n",
    "import seaborn as sns"
   ]
  },
  {
   "cell_type": "code",
   "execution_count": 2,
   "id": "83fa3ab7",
   "metadata": {},
   "outputs": [],
   "source": [
    "data =  pd.read_csv('train.csv')\n",
    "members = pd.read_csv('members.csv')\n",
    "song_extrainfo = pd.read_csv('song_extra_info.csv')\n",
    "songs = pd.read_csv('songs.csv')"
   ]
  },
  {
   "cell_type": "markdown",
   "id": "7b3dba65",
   "metadata": {},
   "source": [
    "# Data Preprocessing:"
   ]
  },
  {
   "cell_type": "markdown",
   "id": "635f13c0",
   "metadata": {},
   "source": [
    "### Data Merge"
   ]
  },
  {
   "cell_type": "code",
   "execution_count": 3,
   "id": "d4e71b8e",
   "metadata": {
    "scrolled": true
   },
   "outputs": [
    {
     "name": "stdout",
     "output_type": "stream",
     "text": [
      "(7377418, 6) (34403, 7) (2296320, 7) (2295971, 3)\n"
     ]
    }
   ],
   "source": [
    "print(data.shape, members.shape, songs.shape, song_extrainfo.shape)"
   ]
  },
  {
   "cell_type": "code",
   "execution_count": 4,
   "id": "deb39548",
   "metadata": {},
   "outputs": [],
   "source": [
    "songs_info = pd.merge(songs,song_extrainfo)\n",
    "all_data = pd.merge(data, songs_info, on='song_id', how='left')\n",
    "all_data = pd.merge(all_data, members, on='msno', how='left')"
   ]
  },
  {
   "cell_type": "code",
   "execution_count": 5,
   "id": "0d2a2b7c",
   "metadata": {},
   "outputs": [
    {
     "data": {
      "text/plain": [
       "(7377418, 20)"
      ]
     },
     "execution_count": 5,
     "metadata": {},
     "output_type": "execute_result"
    }
   ],
   "source": [
    "all_data.shape"
   ]
  },
  {
   "cell_type": "markdown",
   "id": "48b9b975",
   "metadata": {},
   "source": [
    "### Missing data handling "
   ]
  },
  {
   "cell_type": "code",
   "execution_count": 6,
   "id": "1ff570c2",
   "metadata": {
    "scrolled": false
   },
   "outputs": [
    {
     "data": {
      "text/html": [
       "<div>\n",
       "<style scoped>\n",
       "    .dataframe tbody tr th:only-of-type {\n",
       "        vertical-align: middle;\n",
       "    }\n",
       "\n",
       "    .dataframe tbody tr th {\n",
       "        vertical-align: top;\n",
       "    }\n",
       "\n",
       "    .dataframe thead th {\n",
       "        text-align: right;\n",
       "    }\n",
       "</style>\n",
       "<table border=\"1\" class=\"dataframe\">\n",
       "  <thead>\n",
       "    <tr style=\"text-align: right;\">\n",
       "      <th></th>\n",
       "      <th>Total</th>\n",
       "      <th>Percent</th>\n",
       "    </tr>\n",
       "  </thead>\n",
       "  <tbody>\n",
       "    <tr>\n",
       "      <th>lyricist</th>\n",
       "      <td>3179542</td>\n",
       "      <td>0.430983</td>\n",
       "    </tr>\n",
       "    <tr>\n",
       "      <th>gender</th>\n",
       "      <td>2961479</td>\n",
       "      <td>0.401425</td>\n",
       "    </tr>\n",
       "    <tr>\n",
       "      <th>composer</th>\n",
       "      <td>1676694</td>\n",
       "      <td>0.227274</td>\n",
       "    </tr>\n",
       "    <tr>\n",
       "      <th>isrc</th>\n",
       "      <td>577963</td>\n",
       "      <td>0.078342</td>\n",
       "    </tr>\n",
       "    <tr>\n",
       "      <th>source_screen_name</th>\n",
       "      <td>414804</td>\n",
       "      <td>0.056226</td>\n",
       "    </tr>\n",
       "    <tr>\n",
       "      <th>genre_ids</th>\n",
       "      <td>119906</td>\n",
       "      <td>0.016253</td>\n",
       "    </tr>\n",
       "    <tr>\n",
       "      <th>source_system_tab</th>\n",
       "      <td>24849</td>\n",
       "      <td>0.003368</td>\n",
       "    </tr>\n",
       "    <tr>\n",
       "      <th>source_type</th>\n",
       "      <td>21539</td>\n",
       "      <td>0.002920</td>\n",
       "    </tr>\n",
       "    <tr>\n",
       "      <th>language</th>\n",
       "      <td>1605</td>\n",
       "      <td>0.000218</td>\n",
       "    </tr>\n",
       "    <tr>\n",
       "      <th>name</th>\n",
       "      <td>1571</td>\n",
       "      <td>0.000213</td>\n",
       "    </tr>\n",
       "    <tr>\n",
       "      <th>song_length</th>\n",
       "      <td>1569</td>\n",
       "      <td>0.000213</td>\n",
       "    </tr>\n",
       "    <tr>\n",
       "      <th>artist_name</th>\n",
       "      <td>1569</td>\n",
       "      <td>0.000213</td>\n",
       "    </tr>\n",
       "    <tr>\n",
       "      <th>bd</th>\n",
       "      <td>0</td>\n",
       "      <td>0.000000</td>\n",
       "    </tr>\n",
       "    <tr>\n",
       "      <th>registration_init_time</th>\n",
       "      <td>0</td>\n",
       "      <td>0.000000</td>\n",
       "    </tr>\n",
       "    <tr>\n",
       "      <th>registered_via</th>\n",
       "      <td>0</td>\n",
       "      <td>0.000000</td>\n",
       "    </tr>\n",
       "    <tr>\n",
       "      <th>msno</th>\n",
       "      <td>0</td>\n",
       "      <td>0.000000</td>\n",
       "    </tr>\n",
       "    <tr>\n",
       "      <th>city</th>\n",
       "      <td>0</td>\n",
       "      <td>0.000000</td>\n",
       "    </tr>\n",
       "    <tr>\n",
       "      <th>song_id</th>\n",
       "      <td>0</td>\n",
       "      <td>0.000000</td>\n",
       "    </tr>\n",
       "    <tr>\n",
       "      <th>target</th>\n",
       "      <td>0</td>\n",
       "      <td>0.000000</td>\n",
       "    </tr>\n",
       "    <tr>\n",
       "      <th>expiration_date</th>\n",
       "      <td>0</td>\n",
       "      <td>0.000000</td>\n",
       "    </tr>\n",
       "  </tbody>\n",
       "</table>\n",
       "</div>"
      ],
      "text/plain": [
       "                          Total   Percent\n",
       "lyricist                3179542  0.430983\n",
       "gender                  2961479  0.401425\n",
       "composer                1676694  0.227274\n",
       "isrc                     577963  0.078342\n",
       "source_screen_name       414804  0.056226\n",
       "genre_ids                119906  0.016253\n",
       "source_system_tab         24849  0.003368\n",
       "source_type               21539  0.002920\n",
       "language                   1605  0.000218\n",
       "name                       1571  0.000213\n",
       "song_length                1569  0.000213\n",
       "artist_name                1569  0.000213\n",
       "bd                            0  0.000000\n",
       "registration_init_time        0  0.000000\n",
       "registered_via                0  0.000000\n",
       "msno                          0  0.000000\n",
       "city                          0  0.000000\n",
       "song_id                       0  0.000000\n",
       "target                        0  0.000000\n",
       "expiration_date               0  0.000000"
      ]
     },
     "execution_count": 6,
     "metadata": {},
     "output_type": "execute_result"
    }
   ],
   "source": [
    "# missing data percent\n",
    "total = all_data.isna().sum().sort_values(ascending=False)\n",
    "percent = (all_data.isnull().sum()/all_data.isnull().count()).sort_values(ascending=False)\n",
    "missing_data = pd.concat([total, percent], axis=1, keys=['Total', 'Percent'])\n",
    "missing_data.head(20)"
   ]
  },
  {
   "cell_type": "code",
   "execution_count": 7,
   "id": "6a036ed7",
   "metadata": {
    "scrolled": false
   },
   "outputs": [
    {
     "data": {
      "text/plain": [
       "msno                            0\n",
       "song_id                         0\n",
       "source_system_tab           24849\n",
       "source_screen_name         414804\n",
       "source_type                 21539\n",
       "target                          0\n",
       "song_length                  1569\n",
       "genre_ids                  119906\n",
       "artist_name                  1569\n",
       "composer                  1676694\n",
       "lyricist                  3179542\n",
       "language                     1605\n",
       "name                         1571\n",
       "isrc                       577963\n",
       "city                            0\n",
       "bd                              0\n",
       "gender                    2961479\n",
       "registered_via                  0\n",
       "registration_init_time          0\n",
       "expiration_date                 0\n",
       "dtype: int64"
      ]
     },
     "execution_count": 7,
     "metadata": {},
     "output_type": "execute_result"
    }
   ],
   "source": [
    "all_data.isna().sum()"
   ]
  },
  {
   "cell_type": "code",
   "execution_count": 8,
   "id": "7a3986dc",
   "metadata": {},
   "outputs": [
    {
     "data": {
      "text/plain": [
       "msno                           0\n",
       "song_id                        0\n",
       "source_system_tab              0\n",
       "source_screen_name             0\n",
       "source_type                    0\n",
       "target                         0\n",
       "song_length                 1569\n",
       "genre_ids                 119906\n",
       "artist_name                 1569\n",
       "language                       0\n",
       "name                        1571\n",
       "city                           0\n",
       "bd                             0\n",
       "gender                         0\n",
       "registered_via                 0\n",
       "registration_init_time         0\n",
       "expiration_date                0\n",
       "dtype: int64"
      ]
     },
     "execution_count": 8,
     "metadata": {},
     "output_type": "execute_result"
    }
   ],
   "source": [
    "all_data.source_system_tab.fillna('Others', inplace=True)\n",
    "all_data.source_screen_name.fillna('Others', inplace=True)\n",
    "all_data.source_type.fillna('Others', inplace=True)\n",
    "all_data.gender.fillna('Unknown', inplace=True)\n",
    "\n",
    "all_data.drop(columns='composer', inplace=True)\n",
    "all_data.drop(columns='lyricist', inplace=True)\n",
    "all_data.language.fillna(0.0, inplace=True)\n",
    "\n",
    "all_data.drop(columns='isrc', inplace=True)\n",
    "all_data.isna().sum()"
   ]
  },
  {
   "cell_type": "code",
   "execution_count": 9,
   "id": "969b172d",
   "metadata": {},
   "outputs": [
    {
     "data": {
      "text/plain": [
       "0"
      ]
     },
     "execution_count": 9,
     "metadata": {},
     "output_type": "execute_result"
    }
   ],
   "source": [
    "all_data.dropna(inplace=True)\n",
    "all_data.isna().sum().sum()"
   ]
  },
  {
   "cell_type": "markdown",
   "id": "25c3f7e0",
   "metadata": {},
   "source": [
    "# Exploratory Data Analysis"
   ]
  },
  {
   "cell_type": "code",
   "execution_count": 10,
   "id": "8ad893a9",
   "metadata": {},
   "outputs": [],
   "source": [
    "# Create Dates\n",
    "\n",
    "# registration_init_time\n",
    "all_data.registration_init_time = pd.to_datetime(all_data.registration_init_time, format='%Y%m%d', errors='ignore')\n",
    "all_data['registration_init_time_year'] = all_data['registration_init_time'].dt.year\n",
    "all_data['registration_init_time_month'] = all_data['registration_init_time'].dt.month\n",
    "all_data['registration_init_time_day'] = all_data['registration_init_time'].dt.day\n",
    "\n",
    "# expiration_date\n",
    "all_data.expiration_date = pd.to_datetime(all_data.expiration_date,  format='%Y%m%d', errors='ignore')\n",
    "all_data['expiration_date_year'] = all_data['expiration_date'].dt.year\n",
    "all_data['expiration_date_month'] = all_data['expiration_date'].dt.month\n",
    "all_data['expiration_date_day'] = all_data['expiration_date'].dt.day\n",
    "\n",
    "# Dates to category\n",
    "all_data['registration_init_time'] = all_data['registration_init_time'].astype('category')\n",
    "all_data['expiration_date'] = all_data['expiration_date'].astype('category')"
   ]
  },
  {
   "cell_type": "code",
   "execution_count": 11,
   "id": "4267103e",
   "metadata": {},
   "outputs": [
    {
     "data": {
      "text/plain": [
       "<AxesSubplot:xlabel='target', ylabel='count'>"
      ]
     },
     "execution_count": 11,
     "metadata": {},
     "output_type": "execute_result"
    },
    {
     "data": {
      "image/png": "[encoded data removed]",
      "text/plain": [
       "<Figure size 576x576 with 1 Axes>"
      ]
     },
     "metadata": {
      "needs_background": "light"
     },
     "output_type": "display_data"
    }
   ],
   "source": [
    "# Distribution of the ‘target’ variable\n",
    "plt.figure(figsize = (8, 8)) \n",
    "sns.countplot(x='target', data=all_data)"
   ]
  },
  {
   "cell_type": "code",
   "execution_count": 12,
   "id": "b8e54f09",
   "metadata": {},
   "outputs": [
    {
     "data": {
      "image/png": "[encoded data removed]",
      "text/plain": [
       "<Figure size 576x576 with 1 Axes>"
      ]
     },
     "metadata": {},
     "output_type": "display_data"
    }
   ],
   "source": [
    "# gender plot\n",
    "plt.figure(figsize = (8, 8)) \n",
    "pp = pd.value_counts(all_data.gender) \n",
    "pp.plot.pie(startangle=90, autopct='%1.1f%%', shadow=False)\n",
    "plt.axis('equal') \n",
    "plt.show()"
   ]
  },
  {
   "cell_type": "code",
   "execution_count": 13,
   "id": "d111e03b",
   "metadata": {},
   "outputs": [
    {
     "data": {
      "text/plain": [
       "<AxesSubplot:xlabel='registration_init_time_year', ylabel='count'>"
      ]
     },
     "execution_count": 13,
     "metadata": {},
     "output_type": "execute_result"
    },
    {
     "data": {
      "image/png": "[encoded data removed]",
      "text/plain": [
       "<Figure size 720x432 with 1 Axes>"
      ]
     },
     "metadata": {
      "needs_background": "light"
     },
     "output_type": "display_data"
    }
   ],
   "source": [
    "# registration Dates\n",
    "plt.figure(figsize = (10, 6))\n",
    "sns.countplot(x='registration_init_time_year', data=all_data)"
   ]
  },
  {
   "cell_type": "code",
   "execution_count": 14,
   "id": "77be3dfb",
   "metadata": {},
   "outputs": [
    {
     "name": "stderr",
     "output_type": "stream",
     "text": [
      "/Users/ziky/opt/anaconda3/lib/python3.8/site-packages/seaborn/_decorators.py:36: FutureWarning: Pass the following variable as a keyword arg: x. From version 0.12, the only valid positional argument will be `data`, and passing other arguments without an explicit keyword will result in an error or misinterpretation.\n",
      "  warnings.warn(\n"
     ]
    },
    {
     "data": {
      "text/plain": [
       "<AxesSubplot:xlabel='bd', ylabel='count'>"
      ]
     },
     "execution_count": 14,
     "metadata": {},
     "output_type": "execute_result"
    },
    {
     "data": {
      "image/png": "[encoded data removed]",
      "text/plain": [
       "<Figure size 1224x576 with 1 Axes>"
      ]
     },
     "metadata": {
      "needs_background": "light"
     },
     "output_type": "display_data"
    }
   ],
   "source": [
    "# bd plot\n",
    "plt.figure(figsize = (17, 8))\n",
    "plt.xticks(rotation=90)\n",
    "sns.countplot(all_data.bd)"
   ]
  },
  {
   "cell_type": "code",
   "execution_count": 15,
   "id": "cdab487c",
   "metadata": {},
   "outputs": [
    {
     "data": {
      "text/plain": [
       "<AxesSubplot:xlabel='source_type', ylabel='count'>"
      ]
     },
     "execution_count": 15,
     "metadata": {},
     "output_type": "execute_result"
    },
    {
     "data": {
      "image/png": "[encoded data removed]",
      "text/plain": [
       "<Figure size 720x432 with 1 Axes>"
      ]
     },
     "metadata": {
      "needs_background": "light"
     },
     "output_type": "display_data"
    }
   ],
   "source": [
    "# source type vs target\n",
    "plt.figure(figsize = (10, 6))\n",
    "plt.xticks(rotation=40,ha='right')\n",
    "sns.countplot(x='source_type', hue='target', data=all_data)"
   ]
  },
  {
   "cell_type": "code",
   "execution_count": 16,
   "id": "c93433c3",
   "metadata": {
    "scrolled": true
   },
   "outputs": [
    {
     "data": {
      "text/plain": [
       "<AxesSubplot:xlabel='source_screen_name', ylabel='count'>"
      ]
     },
     "execution_count": 16,
     "metadata": {},
     "output_type": "execute_result"
    },
    {
     "data": {
      "image/png": "[encoded data removed]",
      "text/plain": [
       "<Figure size 720x432 with 1 Axes>"
      ]
     },
     "metadata": {
      "needs_background": "light"
     },
     "output_type": "display_data"
    }
   ],
   "source": [
    "#source_screen_name vs target\n",
    "plt.figure(figsize = (10, 6))\n",
    "plt.xticks(rotation=40, ha='right')\n",
    "sns.countplot(x=all_data['source_screen_name'], hue='target', data=all_data)"
   ]
  },
  {
   "cell_type": "code",
   "execution_count": 17,
   "id": "0dfec2b2",
   "metadata": {
    "scrolled": true
   },
   "outputs": [
    {
     "data": {
      "text/plain": [
       "<AxesSubplot:xlabel='source_system_tab', ylabel='count'>"
      ]
     },
     "execution_count": 17,
     "metadata": {},
     "output_type": "execute_result"
    },
    {
     "data": {
      "image/png": "[encoded data removed]",
      "text/plain": [
       "<Figure size 720x432 with 1 Axes>"
      ]
     },
     "metadata": {
      "needs_background": "light"
     },
     "output_type": "display_data"
    }
   ],
   "source": [
    "# source_system_tab vs target\n",
    "plt.figure(figsize = (10, 6))\n",
    "plt.xticks(rotation=40, ha='right')\n",
    "sns.countplot(x='source_system_tab', hue='target', data=all_data)"
   ]
  },
  {
   "cell_type": "code",
   "execution_count": 18,
   "id": "9ec42ef9",
   "metadata": {},
   "outputs": [
    {
     "data": {
      "text/plain": [
       "<AxesSubplot:xlabel='genre_ids'>"
      ]
     },
     "execution_count": 18,
     "metadata": {},
     "output_type": "execute_result"
    },
    {
     "data": {
      "image/png": "[encoded data removed]",
      "text/plain": [
       "<Figure size 720x576 with 1 Axes>"
      ]
     },
     "metadata": {
      "needs_background": "light"
     },
     "output_type": "display_data"
    }
   ],
   "source": [
    "# song genre_ids plot\n",
    "top10 = pd.DataFrame(all_data.groupby('genre_ids')['genre_ids'].count().nlargest(10))\n",
    "top10.rename(columns={'genre_ids':'genre_id'},inplace=True)\n",
    "top10.plot(kind='bar',figsize=(10,8),color='salmon')"
   ]
  },
  {
   "cell_type": "markdown",
   "id": "ecb27101",
   "metadata": {},
   "source": [
    "# Models Methods and Results"
   ]
  },
  {
   "cell_type": "code",
   "execution_count": 19,
   "id": "9c44d606",
   "metadata": {},
   "outputs": [],
   "source": [
    "from sklearn import preprocessing\n",
    "from sklearn.neighbors import KNeighborsClassifier\n",
    "from sklearn.preprocessing import StandardScaler\n",
    "from sklearn.pipeline import make_pipeline\n",
    "from sklearn.model_selection import GridSearchCV\n",
    "from sklearn.metrics import accuracy_score\n",
    "from sklearn.compose import make_column_transformer"
   ]
  },
  {
   "cell_type": "markdown",
   "id": "583ad145",
   "metadata": {},
   "source": [
    "### Features obervation & handling"
   ]
  },
  {
   "cell_type": "code",
   "execution_count": 20,
   "id": "30ee6c36",
   "metadata": {},
   "outputs": [
    {
     "data": {
      "text/plain": [
       "Index(['msno', 'song_id', 'source_system_tab', 'source_screen_name',\n",
       "       'source_type', 'target', 'song_length', 'genre_ids', 'artist_name',\n",
       "       'language', 'name', 'city', 'bd', 'gender', 'registered_via',\n",
       "       'registration_init_time', 'expiration_date',\n",
       "       'registration_init_time_year', 'registration_init_time_month',\n",
       "       'registration_init_time_day', 'expiration_date_year',\n",
       "       'expiration_date_month', 'expiration_date_day'],\n",
       "      dtype='object')"
      ]
     },
     "execution_count": 20,
     "metadata": {},
     "output_type": "execute_result"
    }
   ],
   "source": [
    "all_data.columns"
   ]
  },
  {
   "cell_type": "code",
   "execution_count": 21,
   "id": "84cb0375",
   "metadata": {},
   "outputs": [
    {
     "name": "stdout",
     "output_type": "stream",
     "text": [
      "<class 'pandas.core.frame.DataFrame'>\n",
      "Int64Index: 7257510 entries, 0 to 7377417\n",
      "Data columns (total 15 columns):\n",
      " #   Column                       Dtype  \n",
      "---  ------                       -----  \n",
      " 0   msno                         object \n",
      " 1   song_id                      object \n",
      " 2   source_system_tab            object \n",
      " 3   source_screen_name           object \n",
      " 4   source_type                  object \n",
      " 5   target                       int64  \n",
      " 6   song_length                  float64\n",
      " 7   genre_ids                    object \n",
      " 8   artist_name                  object \n",
      " 9   language                     float64\n",
      " 10  name                         object \n",
      " 11  city                         int64  \n",
      " 12  registered_via               int64  \n",
      " 13  registration_init_time_year  int64  \n",
      " 14  expiration_date_year         int64  \n",
      "dtypes: float64(2), int64(5), object(8)\n",
      "memory usage: 885.9+ MB\n"
     ]
    }
   ],
   "source": [
    "features = ['msno', 'song_id', 'source_system_tab', 'source_screen_name',\n",
    "            'source_type', 'target', 'song_length', 'genre_ids', 'artist_name',\n",
    "            'language', 'name', 'city', 'registered_via',\n",
    "            'registration_init_time_year', 'expiration_date_year']\n",
    "all_data[features].info()"
   ]
  },
  {
   "cell_type": "code",
   "execution_count": 22,
   "id": "98614ac1",
   "metadata": {},
   "outputs": [
    {
     "data": {
      "text/plain": [
       "0"
      ]
     },
     "execution_count": 22,
     "metadata": {},
     "output_type": "execute_result"
    }
   ],
   "source": [
    "all_data[features].isna().sum().sum()"
   ]
  },
  {
   "cell_type": "code",
   "execution_count": 23,
   "id": "4e0e078a",
   "metadata": {},
   "outputs": [
    {
     "data": {
      "text/html": [
       "<div>\n",
       "<style scoped>\n",
       "    .dataframe tbody tr th:only-of-type {\n",
       "        vertical-align: middle;\n",
       "    }\n",
       "\n",
       "    .dataframe tbody tr th {\n",
       "        vertical-align: top;\n",
       "    }\n",
       "\n",
       "    .dataframe thead th {\n",
       "        text-align: right;\n",
       "    }\n",
       "</style>\n",
       "<table border=\"1\" class=\"dataframe\">\n",
       "  <thead>\n",
       "    <tr style=\"text-align: right;\">\n",
       "      <th></th>\n",
       "      <th>target</th>\n",
       "      <th>song_length</th>\n",
       "      <th>language</th>\n",
       "      <th>city</th>\n",
       "      <th>registered_via</th>\n",
       "      <th>registration_init_time_year</th>\n",
       "      <th>expiration_date_year</th>\n",
       "    </tr>\n",
       "  </thead>\n",
       "  <tbody>\n",
       "    <tr>\n",
       "      <th>target</th>\n",
       "      <td>1.000000</td>\n",
       "      <td>-0.002011</td>\n",
       "      <td>-0.027405</td>\n",
       "      <td>0.011948</td>\n",
       "      <td>0.009701</td>\n",
       "      <td>-0.001790</td>\n",
       "      <td>0.042308</td>\n",
       "    </tr>\n",
       "    <tr>\n",
       "      <th>song_length</th>\n",
       "      <td>-0.002011</td>\n",
       "      <td>1.000000</td>\n",
       "      <td>-0.212982</td>\n",
       "      <td>0.005186</td>\n",
       "      <td>0.002906</td>\n",
       "      <td>-0.007623</td>\n",
       "      <td>0.004539</td>\n",
       "    </tr>\n",
       "    <tr>\n",
       "      <th>language</th>\n",
       "      <td>-0.027405</td>\n",
       "      <td>-0.212982</td>\n",
       "      <td>1.000000</td>\n",
       "      <td>-0.022314</td>\n",
       "      <td>-0.000521</td>\n",
       "      <td>0.009426</td>\n",
       "      <td>-0.004152</td>\n",
       "    </tr>\n",
       "    <tr>\n",
       "      <th>city</th>\n",
       "      <td>0.011948</td>\n",
       "      <td>0.005186</td>\n",
       "      <td>-0.022314</td>\n",
       "      <td>1.000000</td>\n",
       "      <td>0.073648</td>\n",
       "      <td>-0.280145</td>\n",
       "      <td>0.149992</td>\n",
       "    </tr>\n",
       "    <tr>\n",
       "      <th>registered_via</th>\n",
       "      <td>0.009701</td>\n",
       "      <td>0.002906</td>\n",
       "      <td>-0.000521</td>\n",
       "      <td>0.073648</td>\n",
       "      <td>1.000000</td>\n",
       "      <td>-0.442610</td>\n",
       "      <td>0.083905</td>\n",
       "    </tr>\n",
       "    <tr>\n",
       "      <th>registration_init_time_year</th>\n",
       "      <td>-0.001790</td>\n",
       "      <td>-0.007623</td>\n",
       "      <td>0.009426</td>\n",
       "      <td>-0.280145</td>\n",
       "      <td>-0.442610</td>\n",
       "      <td>1.000000</td>\n",
       "      <td>-0.091728</td>\n",
       "    </tr>\n",
       "    <tr>\n",
       "      <th>expiration_date_year</th>\n",
       "      <td>0.042308</td>\n",
       "      <td>0.004539</td>\n",
       "      <td>-0.004152</td>\n",
       "      <td>0.149992</td>\n",
       "      <td>0.083905</td>\n",
       "      <td>-0.091728</td>\n",
       "      <td>1.000000</td>\n",
       "    </tr>\n",
       "  </tbody>\n",
       "</table>\n",
       "</div>"
      ],
      "text/plain": [
       "                               target  song_length  language      city  \\\n",
       "target                       1.000000    -0.002011 -0.027405  0.011948   \n",
       "song_length                 -0.002011     1.000000 -0.212982  0.005186   \n",
       "language                    -0.027405    -0.212982  1.000000 -0.022314   \n",
       "city                         0.011948     0.005186 -0.022314  1.000000   \n",
       "registered_via               0.009701     0.002906 -0.000521  0.073648   \n",
       "registration_init_time_year -0.001790    -0.007623  0.009426 -0.280145   \n",
       "expiration_date_year         0.042308     0.004539 -0.004152  0.149992   \n",
       "\n",
       "                             registered_via  registration_init_time_year  \\\n",
       "target                             0.009701                    -0.001790   \n",
       "song_length                        0.002906                    -0.007623   \n",
       "language                          -0.000521                     0.009426   \n",
       "city                               0.073648                    -0.280145   \n",
       "registered_via                     1.000000                    -0.442610   \n",
       "registration_init_time_year       -0.442610                     1.000000   \n",
       "expiration_date_year               0.083905                    -0.091728   \n",
       "\n",
       "                             expiration_date_year  \n",
       "target                                   0.042308  \n",
       "song_length                              0.004539  \n",
       "language                                -0.004152  \n",
       "city                                     0.149992  \n",
       "registered_via                           0.083905  \n",
       "registration_init_time_year             -0.091728  \n",
       "expiration_date_year                     1.000000  "
      ]
     },
     "execution_count": 23,
     "metadata": {},
     "output_type": "execute_result"
    }
   ],
   "source": [
    "all_data[features].corr()"
   ]
  },
  {
   "cell_type": "markdown",
   "id": "8c050400",
   "metadata": {},
   "source": [
    "### Encoding & scale"
   ]
  },
  {
   "cell_type": "code",
   "execution_count": 24,
   "id": "d797ebf8",
   "metadata": {},
   "outputs": [],
   "source": [
    "from sklearn.preprocessing import LabelEncoder\n",
    "enc = LabelEncoder()\n",
    "\n",
    "all_data['msno'] = enc.fit_transform(all_data['msno'])\n",
    "all_data['song_id'] = enc.fit_transform(all_data['song_id'])\n",
    "all_data['source_system_tab'] = enc.fit_transform(all_data['source_system_tab'])\n",
    "all_data['source_screen_name'] = enc.fit_transform(all_data['source_screen_name'])\n",
    "all_data['source_type'] = enc.fit_transform(all_data['source_type'])\n",
    "all_data['genre_ids'] = enc.fit_transform(all_data['genre_ids'].astype('str'))\n",
    "all_data['artist_name'] = enc.fit_transform(all_data['artist_name'].astype('str'))\n",
    "all_data['name'] = enc.fit_transform(all_data['name'].astype('str'))"
   ]
  },
  {
   "cell_type": "code",
   "execution_count": 25,
   "id": "e12e5b46",
   "metadata": {},
   "outputs": [],
   "source": [
    "std_scaler = StandardScaler()\n",
    "all_data['song_length'] = std_scaler.fit_transform(all_data[['song_length']])"
   ]
  },
  {
   "cell_type": "code",
   "execution_count": 26,
   "id": "ecde0f70",
   "metadata": {},
   "outputs": [
    {
     "data": {
      "text/html": [
       "<div>\n",
       "<style scoped>\n",
       "    .dataframe tbody tr th:only-of-type {\n",
       "        vertical-align: middle;\n",
       "    }\n",
       "\n",
       "    .dataframe tbody tr th {\n",
       "        vertical-align: top;\n",
       "    }\n",
       "\n",
       "    .dataframe thead th {\n",
       "        text-align: right;\n",
       "    }\n",
       "</style>\n",
       "<table border=\"1\" class=\"dataframe\">\n",
       "  <thead>\n",
       "    <tr style=\"text-align: right;\">\n",
       "      <th></th>\n",
       "      <th>msno</th>\n",
       "      <th>song_id</th>\n",
       "      <th>source_system_tab</th>\n",
       "      <th>source_screen_name</th>\n",
       "      <th>source_type</th>\n",
       "      <th>target</th>\n",
       "      <th>song_length</th>\n",
       "      <th>genre_ids</th>\n",
       "      <th>artist_name</th>\n",
       "      <th>language</th>\n",
       "      <th>name</th>\n",
       "      <th>city</th>\n",
       "      <th>registered_via</th>\n",
       "      <th>registration_init_time_year</th>\n",
       "      <th>expiration_date_year</th>\n",
       "    </tr>\n",
       "  </thead>\n",
       "  <tbody>\n",
       "    <tr>\n",
       "      <th>0</th>\n",
       "      <td>8153</td>\n",
       "      <td>73120</td>\n",
       "      <td>2</td>\n",
       "      <td>7</td>\n",
       "      <td>7</td>\n",
       "      <td>1</td>\n",
       "      <td>-0.575281</td>\n",
       "      <td>285</td>\n",
       "      <td>3193</td>\n",
       "      <td>52.0</td>\n",
       "      <td>50643</td>\n",
       "      <td>1</td>\n",
       "      <td>7</td>\n",
       "      <td>2012</td>\n",
       "      <td>2017</td>\n",
       "    </tr>\n",
       "    <tr>\n",
       "      <th>1</th>\n",
       "      <td>17249</td>\n",
       "      <td>218901</td>\n",
       "      <td>4</td>\n",
       "      <td>8</td>\n",
       "      <td>5</td>\n",
       "      <td>1</td>\n",
       "      <td>0.588899</td>\n",
       "      <td>90</td>\n",
       "      <td>31114</td>\n",
       "      <td>52.0</td>\n",
       "      <td>80084</td>\n",
       "      <td>13</td>\n",
       "      <td>9</td>\n",
       "      <td>2011</td>\n",
       "      <td>2017</td>\n",
       "    </tr>\n",
       "    <tr>\n",
       "      <th>2</th>\n",
       "      <td>17249</td>\n",
       "      <td>118276</td>\n",
       "      <td>4</td>\n",
       "      <td>8</td>\n",
       "      <td>5</td>\n",
       "      <td>1</td>\n",
       "      <td>-0.293227</td>\n",
       "      <td>90</td>\n",
       "      <td>20806</td>\n",
       "      <td>52.0</td>\n",
       "      <td>56424</td>\n",
       "      <td>13</td>\n",
       "      <td>9</td>\n",
       "      <td>2011</td>\n",
       "      <td>2017</td>\n",
       "    </tr>\n",
       "    <tr>\n",
       "      <th>3</th>\n",
       "      <td>17249</td>\n",
       "      <td>23205</td>\n",
       "      <td>4</td>\n",
       "      <td>8</td>\n",
       "      <td>5</td>\n",
       "      <td>1</td>\n",
       "      <td>0.155616</td>\n",
       "      <td>6</td>\n",
       "      <td>26712</td>\n",
       "      <td>-1.0</td>\n",
       "      <td>34190</td>\n",
       "      <td>13</td>\n",
       "      <td>9</td>\n",
       "      <td>2011</td>\n",
       "      <td>2017</td>\n",
       "    </tr>\n",
       "    <tr>\n",
       "      <th>4</th>\n",
       "      <td>8153</td>\n",
       "      <td>32627</td>\n",
       "      <td>2</td>\n",
       "      <td>7</td>\n",
       "      <td>7</td>\n",
       "      <td>1</td>\n",
       "      <td>-0.853519</td>\n",
       "      <td>2</td>\n",
       "      <td>4350</td>\n",
       "      <td>52.0</td>\n",
       "      <td>119944</td>\n",
       "      <td>1</td>\n",
       "      <td>7</td>\n",
       "      <td>2012</td>\n",
       "      <td>2017</td>\n",
       "    </tr>\n",
       "  </tbody>\n",
       "</table>\n",
       "</div>"
      ],
      "text/plain": [
       "    msno  song_id  source_system_tab  source_screen_name  source_type  target  \\\n",
       "0   8153    73120                  2                   7            7       1   \n",
       "1  17249   218901                  4                   8            5       1   \n",
       "2  17249   118276                  4                   8            5       1   \n",
       "3  17249    23205                  4                   8            5       1   \n",
       "4   8153    32627                  2                   7            7       1   \n",
       "\n",
       "   song_length  genre_ids  artist_name  language    name  city  \\\n",
       "0    -0.575281        285         3193      52.0   50643     1   \n",
       "1     0.588899         90        31114      52.0   80084    13   \n",
       "2    -0.293227         90        20806      52.0   56424    13   \n",
       "3     0.155616          6        26712      -1.0   34190    13   \n",
       "4    -0.853519          2         4350      52.0  119944     1   \n",
       "\n",
       "   registered_via  registration_init_time_year  expiration_date_year  \n",
       "0               7                         2012                  2017  \n",
       "1               9                         2011                  2017  \n",
       "2               9                         2011                  2017  \n",
       "3               9                         2011                  2017  \n",
       "4               7                         2012                  2017  "
      ]
     },
     "execution_count": 26,
     "metadata": {},
     "output_type": "execute_result"
    }
   ],
   "source": [
    "all_data[features].head()"
   ]
  },
  {
   "cell_type": "markdown",
   "id": "9001ea04",
   "metadata": {},
   "source": [
    "### Random Sampling - 20%"
   ]
  },
  {
   "cell_type": "code",
   "execution_count": 27,
   "id": "d1f7f931",
   "metadata": {
    "scrolled": true
   },
   "outputs": [
    {
     "data": {
      "text/html": [
       "<div>\n",
       "<style scoped>\n",
       "    .dataframe tbody tr th:only-of-type {\n",
       "        vertical-align: middle;\n",
       "    }\n",
       "\n",
       "    .dataframe tbody tr th {\n",
       "        vertical-align: top;\n",
       "    }\n",
       "\n",
       "    .dataframe thead th {\n",
       "        text-align: right;\n",
       "    }\n",
       "</style>\n",
       "<table border=\"1\" class=\"dataframe\">\n",
       "  <thead>\n",
       "    <tr style=\"text-align: right;\">\n",
       "      <th></th>\n",
       "      <th>msno</th>\n",
       "      <th>song_id</th>\n",
       "      <th>source_system_tab</th>\n",
       "      <th>source_screen_name</th>\n",
       "      <th>source_type</th>\n",
       "      <th>target</th>\n",
       "      <th>song_length</th>\n",
       "      <th>genre_ids</th>\n",
       "      <th>artist_name</th>\n",
       "      <th>language</th>\n",
       "      <th>name</th>\n",
       "      <th>city</th>\n",
       "      <th>registered_via</th>\n",
       "      <th>registration_init_time_year</th>\n",
       "      <th>expiration_date_year</th>\n",
       "    </tr>\n",
       "  </thead>\n",
       "  <tbody>\n",
       "    <tr>\n",
       "      <th>5451202</th>\n",
       "      <td>23647</td>\n",
       "      <td>34426</td>\n",
       "      <td>1</td>\n",
       "      <td>11</td>\n",
       "      <td>7</td>\n",
       "      <td>0</td>\n",
       "      <td>-0.218141</td>\n",
       "      <td>101</td>\n",
       "      <td>29617</td>\n",
       "      <td>52.0</td>\n",
       "      <td>124274</td>\n",
       "      <td>4</td>\n",
       "      <td>4</td>\n",
       "      <td>2015</td>\n",
       "      <td>2017</td>\n",
       "    </tr>\n",
       "    <tr>\n",
       "      <th>2334595</th>\n",
       "      <td>24421</td>\n",
       "      <td>238020</td>\n",
       "      <td>4</td>\n",
       "      <td>9</td>\n",
       "      <td>5</td>\n",
       "      <td>1</td>\n",
       "      <td>-0.076943</td>\n",
       "      <td>344</td>\n",
       "      <td>34873</td>\n",
       "      <td>3.0</td>\n",
       "      <td>223682</td>\n",
       "      <td>5</td>\n",
       "      <td>9</td>\n",
       "      <td>2011</td>\n",
       "      <td>2017</td>\n",
       "    </tr>\n",
       "    <tr>\n",
       "      <th>7190052</th>\n",
       "      <td>1478</td>\n",
       "      <td>187558</td>\n",
       "      <td>1</td>\n",
       "      <td>11</td>\n",
       "      <td>7</td>\n",
       "      <td>0</td>\n",
       "      <td>-0.855934</td>\n",
       "      <td>185</td>\n",
       "      <td>22172</td>\n",
       "      <td>-1.0</td>\n",
       "      <td>62264</td>\n",
       "      <td>1</td>\n",
       "      <td>7</td>\n",
       "      <td>2016</td>\n",
       "      <td>2017</td>\n",
       "    </tr>\n",
       "    <tr>\n",
       "      <th>2350040</th>\n",
       "      <td>21086</td>\n",
       "      <td>275668</td>\n",
       "      <td>4</td>\n",
       "      <td>8</td>\n",
       "      <td>4</td>\n",
       "      <td>1</td>\n",
       "      <td>0.131382</td>\n",
       "      <td>561</td>\n",
       "      <td>24675</td>\n",
       "      <td>52.0</td>\n",
       "      <td>121609</td>\n",
       "      <td>15</td>\n",
       "      <td>9</td>\n",
       "      <td>2011</td>\n",
       "      <td>2017</td>\n",
       "    </tr>\n",
       "    <tr>\n",
       "      <th>5081754</th>\n",
       "      <td>4961</td>\n",
       "      <td>342842</td>\n",
       "      <td>1</td>\n",
       "      <td>11</td>\n",
       "      <td>7</td>\n",
       "      <td>0</td>\n",
       "      <td>0.122395</td>\n",
       "      <td>317</td>\n",
       "      <td>12400</td>\n",
       "      <td>17.0</td>\n",
       "      <td>159400</td>\n",
       "      <td>5</td>\n",
       "      <td>9</td>\n",
       "      <td>2007</td>\n",
       "      <td>2017</td>\n",
       "    </tr>\n",
       "  </tbody>\n",
       "</table>\n",
       "</div>"
      ],
      "text/plain": [
       "          msno  song_id  source_system_tab  source_screen_name  source_type  \\\n",
       "5451202  23647    34426                  1                  11            7   \n",
       "2334595  24421   238020                  4                   9            5   \n",
       "7190052   1478   187558                  1                  11            7   \n",
       "2350040  21086   275668                  4                   8            4   \n",
       "5081754   4961   342842                  1                  11            7   \n",
       "\n",
       "         target  song_length  genre_ids  artist_name  language    name  city  \\\n",
       "5451202       0    -0.218141        101        29617      52.0  124274     4   \n",
       "2334595       1    -0.076943        344        34873       3.0  223682     5   \n",
       "7190052       0    -0.855934        185        22172      -1.0   62264     1   \n",
       "2350040       1     0.131382        561        24675      52.0  121609    15   \n",
       "5081754       0     0.122395        317        12400      17.0  159400     5   \n",
       "\n",
       "         registered_via  registration_init_time_year  expiration_date_year  \n",
       "5451202               4                         2015                  2017  \n",
       "2334595               9                         2011                  2017  \n",
       "7190052               7                         2016                  2017  \n",
       "2350040               9                         2011                  2017  \n",
       "5081754               9                         2007                  2017  "
      ]
     },
     "execution_count": 27,
     "metadata": {},
     "output_type": "execute_result"
    }
   ],
   "source": [
    "train_data = all_data[features].sample(frac = 0.2)\n",
    "train_data.head()"
   ]
  },
  {
   "cell_type": "code",
   "execution_count": 28,
   "id": "36c7b272",
   "metadata": {},
   "outputs": [],
   "source": [
    "X = train_data.drop(columns='target')\n",
    "y = train_data.target\n",
    "\n",
    "from sklearn.model_selection import train_test_split\n",
    "X_trainval, X_test, y_trainval, y_test = train_test_split(X, y, stratify=y, random_state=0, test_size=0.2)\n",
    "X_train, X_val, y_train, y_val = train_test_split(X_trainval, y_trainval, stratify=y_trainval, random_state=0, test_size=0.2)"
   ]
  },
  {
   "cell_type": "code",
   "execution_count": 29,
   "id": "297702c8",
   "metadata": {
    "scrolled": false
   },
   "outputs": [
    {
     "name": "stdout",
     "output_type": "stream",
     "text": [
      "(928960, 14) (928960,) (232241, 14) (232241,)\n"
     ]
    }
   ],
   "source": [
    "print(X_train.shape, y_train.shape, X_val.shape, y_val.shape)"
   ]
  },
  {
   "cell_type": "markdown",
   "id": "e1509194",
   "metadata": {},
   "source": [
    "### KNN model"
   ]
  },
  {
   "cell_type": "code",
   "execution_count": 30,
   "id": "c1556faa",
   "metadata": {},
   "outputs": [
    {
     "name": "stdout",
     "output_type": "stream",
     "text": [
      "best estimator and parameters: Pipeline(steps=[('kneighborsclassifier', KNeighborsClassifier(n_neighbors=13))])\n"
     ]
    },
    {
     "data": {
      "text/html": [
       "<div>\n",
       "<style scoped>\n",
       "    .dataframe tbody tr th:only-of-type {\n",
       "        vertical-align: middle;\n",
       "    }\n",
       "\n",
       "    .dataframe tbody tr th {\n",
       "        vertical-align: top;\n",
       "    }\n",
       "\n",
       "    .dataframe thead th {\n",
       "        text-align: right;\n",
       "    }\n",
       "</style>\n",
       "<table border=\"1\" class=\"dataframe\">\n",
       "  <thead>\n",
       "    <tr style=\"text-align: right;\">\n",
       "      <th></th>\n",
       "      <th>mean_fit_time</th>\n",
       "      <th>std_fit_time</th>\n",
       "      <th>mean_score_time</th>\n",
       "      <th>std_score_time</th>\n",
       "      <th>param_kneighborsclassifier__n_neighbors</th>\n",
       "      <th>params</th>\n",
       "      <th>split0_test_score</th>\n",
       "      <th>split1_test_score</th>\n",
       "      <th>mean_test_score</th>\n",
       "      <th>std_test_score</th>\n",
       "      <th>rank_test_score</th>\n",
       "      <th>split0_train_score</th>\n",
       "      <th>split1_train_score</th>\n",
       "      <th>mean_train_score</th>\n",
       "      <th>std_train_score</th>\n",
       "    </tr>\n",
       "  </thead>\n",
       "  <tbody>\n",
       "    <tr>\n",
       "      <th>0</th>\n",
       "      <td>4.134397</td>\n",
       "      <td>0.023874</td>\n",
       "      <td>28.120594</td>\n",
       "      <td>0.616004</td>\n",
       "      <td>1</td>\n",
       "      <td>{'kneighborsclassifier__n_neighbors': 1}</td>\n",
       "      <td>0.522257</td>\n",
       "      <td>0.521567</td>\n",
       "      <td>0.521912</td>\n",
       "      <td>0.000345</td>\n",
       "      <td>7</td>\n",
       "      <td>1.000000</td>\n",
       "      <td>1.000000</td>\n",
       "      <td>1.000000</td>\n",
       "      <td>0.000000</td>\n",
       "    </tr>\n",
       "    <tr>\n",
       "      <th>1</th>\n",
       "      <td>4.218690</td>\n",
       "      <td>0.092310</td>\n",
       "      <td>33.798507</td>\n",
       "      <td>0.357908</td>\n",
       "      <td>3</td>\n",
       "      <td>{'kneighborsclassifier__n_neighbors': 3}</td>\n",
       "      <td>0.529074</td>\n",
       "      <td>0.528868</td>\n",
       "      <td>0.528971</td>\n",
       "      <td>0.000103</td>\n",
       "      <td>6</td>\n",
       "      <td>0.760835</td>\n",
       "      <td>0.761223</td>\n",
       "      <td>0.761029</td>\n",
       "      <td>0.000194</td>\n",
       "    </tr>\n",
       "    <tr>\n",
       "      <th>2</th>\n",
       "      <td>4.189110</td>\n",
       "      <td>0.078813</td>\n",
       "      <td>36.648427</td>\n",
       "      <td>0.176515</td>\n",
       "      <td>5</td>\n",
       "      <td>{'kneighborsclassifier__n_neighbors': 5}</td>\n",
       "      <td>0.533201</td>\n",
       "      <td>0.533686</td>\n",
       "      <td>0.533443</td>\n",
       "      <td>0.000242</td>\n",
       "      <td>5</td>\n",
       "      <td>0.702713</td>\n",
       "      <td>0.702265</td>\n",
       "      <td>0.702489</td>\n",
       "      <td>0.000224</td>\n",
       "    </tr>\n",
       "    <tr>\n",
       "      <th>3</th>\n",
       "      <td>4.191024</td>\n",
       "      <td>0.000001</td>\n",
       "      <td>39.040169</td>\n",
       "      <td>0.110269</td>\n",
       "      <td>7</td>\n",
       "      <td>{'kneighborsclassifier__n_neighbors': 7}</td>\n",
       "      <td>0.536144</td>\n",
       "      <td>0.536614</td>\n",
       "      <td>0.536379</td>\n",
       "      <td>0.000235</td>\n",
       "      <td>4</td>\n",
       "      <td>0.673765</td>\n",
       "      <td>0.674100</td>\n",
       "      <td>0.673932</td>\n",
       "      <td>0.000167</td>\n",
       "    </tr>\n",
       "    <tr>\n",
       "      <th>4</th>\n",
       "      <td>2.486924</td>\n",
       "      <td>0.016165</td>\n",
       "      <td>37.106849</td>\n",
       "      <td>0.068671</td>\n",
       "      <td>9</td>\n",
       "      <td>{'kneighborsclassifier__n_neighbors': 9}</td>\n",
       "      <td>0.537323</td>\n",
       "      <td>0.539006</td>\n",
       "      <td>0.538164</td>\n",
       "      <td>0.000842</td>\n",
       "      <td>3</td>\n",
       "      <td>0.656052</td>\n",
       "      <td>0.655736</td>\n",
       "      <td>0.655894</td>\n",
       "      <td>0.000158</td>\n",
       "    </tr>\n",
       "    <tr>\n",
       "      <th>5</th>\n",
       "      <td>2.698154</td>\n",
       "      <td>0.014243</td>\n",
       "      <td>38.085966</td>\n",
       "      <td>0.010811</td>\n",
       "      <td>11</td>\n",
       "      <td>{'kneighborsclassifier__n_neighbors': 11}</td>\n",
       "      <td>0.540319</td>\n",
       "      <td>0.540717</td>\n",
       "      <td>0.540518</td>\n",
       "      <td>0.000199</td>\n",
       "      <td>2</td>\n",
       "      <td>0.643584</td>\n",
       "      <td>0.643506</td>\n",
       "      <td>0.643545</td>\n",
       "      <td>0.000039</td>\n",
       "    </tr>\n",
       "    <tr>\n",
       "      <th>6</th>\n",
       "      <td>2.663900</td>\n",
       "      <td>0.119892</td>\n",
       "      <td>39.551502</td>\n",
       "      <td>0.023903</td>\n",
       "      <td>13</td>\n",
       "      <td>{'kneighborsclassifier__n_neighbors': 13}</td>\n",
       "      <td>0.541544</td>\n",
       "      <td>0.541645</td>\n",
       "      <td>0.541594</td>\n",
       "      <td>0.000050</td>\n",
       "      <td>1</td>\n",
       "      <td>0.635026</td>\n",
       "      <td>0.633950</td>\n",
       "      <td>0.634488</td>\n",
       "      <td>0.000538</td>\n",
       "    </tr>\n",
       "  </tbody>\n",
       "</table>\n",
       "</div>"
      ],
      "text/plain": [
       "   mean_fit_time  std_fit_time  mean_score_time  std_score_time  \\\n",
       "0       4.134397      0.023874        28.120594        0.616004   \n",
       "1       4.218690      0.092310        33.798507        0.357908   \n",
       "2       4.189110      0.078813        36.648427        0.176515   \n",
       "3       4.191024      0.000001        39.040169        0.110269   \n",
       "4       2.486924      0.016165        37.106849        0.068671   \n",
       "5       2.698154      0.014243        38.085966        0.010811   \n",
       "6       2.663900      0.119892        39.551502        0.023903   \n",
       "\n",
       "  param_kneighborsclassifier__n_neighbors  \\\n",
       "0                                       1   \n",
       "1                                       3   \n",
       "2                                       5   \n",
       "3                                       7   \n",
       "4                                       9   \n",
       "5                                      11   \n",
       "6                                      13   \n",
       "\n",
       "                                      params  split0_test_score  \\\n",
       "0   {'kneighborsclassifier__n_neighbors': 1}           0.522257   \n",
       "1   {'kneighborsclassifier__n_neighbors': 3}           0.529074   \n",
       "2   {'kneighborsclassifier__n_neighbors': 5}           0.533201   \n",
       "3   {'kneighborsclassifier__n_neighbors': 7}           0.536144   \n",
       "4   {'kneighborsclassifier__n_neighbors': 9}           0.537323   \n",
       "5  {'kneighborsclassifier__n_neighbors': 11}           0.540319   \n",
       "6  {'kneighborsclassifier__n_neighbors': 13}           0.541544   \n",
       "\n",
       "   split1_test_score  mean_test_score  std_test_score  rank_test_score  \\\n",
       "0           0.521567         0.521912        0.000345                7   \n",
       "1           0.528868         0.528971        0.000103                6   \n",
       "2           0.533686         0.533443        0.000242                5   \n",
       "3           0.536614         0.536379        0.000235                4   \n",
       "4           0.539006         0.538164        0.000842                3   \n",
       "5           0.540717         0.540518        0.000199                2   \n",
       "6           0.541645         0.541594        0.000050                1   \n",
       "\n",
       "   split0_train_score  split1_train_score  mean_train_score  std_train_score  \n",
       "0            1.000000            1.000000          1.000000         0.000000  \n",
       "1            0.760835            0.761223          0.761029         0.000194  \n",
       "2            0.702713            0.702265          0.702489         0.000224  \n",
       "3            0.673765            0.674100          0.673932         0.000167  \n",
       "4            0.656052            0.655736          0.655894         0.000158  \n",
       "5            0.643584            0.643506          0.643545         0.000039  \n",
       "6            0.635026            0.633950          0.634488         0.000538  "
      ]
     },
     "execution_count": 30,
     "metadata": {},
     "output_type": "execute_result"
    }
   ],
   "source": [
    "from sklearn.neighbors import KNeighborsClassifier\n",
    "\n",
    "knn = make_pipeline(KNeighborsClassifier())\n",
    "param_grid = {'kneighborsclassifier__n_neighbors':  np.arange(1, 15, 2)}\n",
    "\n",
    "knn_grid = GridSearchCV(knn, param_grid=param_grid, cv=2, return_train_score=True, n_jobs=-1)\n",
    "knn_grid.fit(X_trainval, y_trainval)\n",
    "print(f\"best estimator and parameters: {knn_grid.best_estimator_}\")\n",
    "\n",
    "results = pd.DataFrame(knn_grid.cv_results_)\n",
    "results"
   ]
  },
  {
   "cell_type": "code",
   "execution_count": 31,
   "id": "a501e418",
   "metadata": {},
   "outputs": [
    {
     "name": "stdout",
     "output_type": "stream",
     "text": [
      "accuracy on trainval set: 0.636537\n",
      "accuracy on test set: 0.547284\n"
     ]
    }
   ],
   "source": [
    "print(\"accuracy on trainval set: %f\" % knn_grid.score(X_trainval, y_trainval))\n",
    "print(\"accuracy on test set: %f\" % knn_grid.score(X_test, y_test))"
   ]
  },
  {
   "cell_type": "markdown",
   "id": "516c10fc",
   "metadata": {},
   "source": [
    "### Random Forest"
   ]
  },
  {
   "cell_type": "code",
   "execution_count": 32,
   "id": "bebc03cd",
   "metadata": {},
   "outputs": [
    {
     "name": "stdout",
     "output_type": "stream",
     "text": [
      "best estimator and parameters: RandomForestClassifier(max_depth=10, max_features=10, n_estimators=150)\n"
     ]
    },
    {
     "data": {
      "text/html": [
       "<div>\n",
       "<style scoped>\n",
       "    .dataframe tbody tr th:only-of-type {\n",
       "        vertical-align: middle;\n",
       "    }\n",
       "\n",
       "    .dataframe tbody tr th {\n",
       "        vertical-align: top;\n",
       "    }\n",
       "\n",
       "    .dataframe thead th {\n",
       "        text-align: right;\n",
       "    }\n",
       "</style>\n",
       "<table border=\"1\" class=\"dataframe\">\n",
       "  <thead>\n",
       "    <tr style=\"text-align: right;\">\n",
       "      <th></th>\n",
       "      <th>mean_fit_time</th>\n",
       "      <th>std_fit_time</th>\n",
       "      <th>mean_score_time</th>\n",
       "      <th>std_score_time</th>\n",
       "      <th>param_max_depth</th>\n",
       "      <th>param_max_features</th>\n",
       "      <th>param_n_estimators</th>\n",
       "      <th>params</th>\n",
       "      <th>split0_test_score</th>\n",
       "      <th>split1_test_score</th>\n",
       "      <th>mean_test_score</th>\n",
       "      <th>std_test_score</th>\n",
       "      <th>rank_test_score</th>\n",
       "      <th>split0_train_score</th>\n",
       "      <th>split1_train_score</th>\n",
       "      <th>mean_train_score</th>\n",
       "      <th>std_train_score</th>\n",
       "    </tr>\n",
       "  </thead>\n",
       "  <tbody>\n",
       "    <tr>\n",
       "      <th>0</th>\n",
       "      <td>224.608480</td>\n",
       "      <td>0.576659</td>\n",
       "      <td>10.989478</td>\n",
       "      <td>0.043107</td>\n",
       "      <td>6</td>\n",
       "      <td>6</td>\n",
       "      <td>150</td>\n",
       "      <td>{'max_depth': 6, 'max_features': 6, 'n_estimat...</td>\n",
       "      <td>0.627446</td>\n",
       "      <td>0.626743</td>\n",
       "      <td>0.627095</td>\n",
       "      <td>3.516815e-04</td>\n",
       "      <td>8</td>\n",
       "      <td>0.627181</td>\n",
       "      <td>0.627796</td>\n",
       "      <td>0.627488</td>\n",
       "      <td>0.000308</td>\n",
       "    </tr>\n",
       "    <tr>\n",
       "      <th>1</th>\n",
       "      <td>383.551546</td>\n",
       "      <td>0.876818</td>\n",
       "      <td>18.169273</td>\n",
       "      <td>0.175481</td>\n",
       "      <td>6</td>\n",
       "      <td>6</td>\n",
       "      <td>250</td>\n",
       "      <td>{'max_depth': 6, 'max_features': 6, 'n_estimat...</td>\n",
       "      <td>0.627279</td>\n",
       "      <td>0.627279</td>\n",
       "      <td>0.627279</td>\n",
       "      <td>3.209789e-07</td>\n",
       "      <td>7</td>\n",
       "      <td>0.627112</td>\n",
       "      <td>0.628442</td>\n",
       "      <td>0.627777</td>\n",
       "      <td>0.000665</td>\n",
       "    </tr>\n",
       "    <tr>\n",
       "      <th>2</th>\n",
       "      <td>360.590924</td>\n",
       "      <td>0.254685</td>\n",
       "      <td>11.932371</td>\n",
       "      <td>0.069445</td>\n",
       "      <td>6</td>\n",
       "      <td>10</td>\n",
       "      <td>150</td>\n",
       "      <td>{'max_depth': 6, 'max_features': 10, 'n_estima...</td>\n",
       "      <td>0.627644</td>\n",
       "      <td>0.627360</td>\n",
       "      <td>0.627502</td>\n",
       "      <td>1.424150e-04</td>\n",
       "      <td>6</td>\n",
       "      <td>0.627468</td>\n",
       "      <td>0.628414</td>\n",
       "      <td>0.627941</td>\n",
       "      <td>0.000473</td>\n",
       "    </tr>\n",
       "    <tr>\n",
       "      <th>3</th>\n",
       "      <td>588.985505</td>\n",
       "      <td>0.279799</td>\n",
       "      <td>17.994905</td>\n",
       "      <td>0.027225</td>\n",
       "      <td>6</td>\n",
       "      <td>10</td>\n",
       "      <td>250</td>\n",
       "      <td>{'max_depth': 6, 'max_features': 10, 'n_estima...</td>\n",
       "      <td>0.627753</td>\n",
       "      <td>0.627718</td>\n",
       "      <td>0.627735</td>\n",
       "      <td>1.754413e-05</td>\n",
       "      <td>5</td>\n",
       "      <td>0.627663</td>\n",
       "      <td>0.628797</td>\n",
       "      <td>0.628230</td>\n",
       "      <td>0.000567</td>\n",
       "    </tr>\n",
       "    <tr>\n",
       "      <th>4</th>\n",
       "      <td>363.865292</td>\n",
       "      <td>0.261319</td>\n",
       "      <td>15.646440</td>\n",
       "      <td>0.065320</td>\n",
       "      <td>10</td>\n",
       "      <td>6</td>\n",
       "      <td>150</td>\n",
       "      <td>{'max_depth': 10, 'max_features': 6, 'n_estima...</td>\n",
       "      <td>0.635536</td>\n",
       "      <td>0.634848</td>\n",
       "      <td>0.635192</td>\n",
       "      <td>3.439239e-04</td>\n",
       "      <td>3</td>\n",
       "      <td>0.639619</td>\n",
       "      <td>0.639157</td>\n",
       "      <td>0.639388</td>\n",
       "      <td>0.000231</td>\n",
       "    </tr>\n",
       "    <tr>\n",
       "      <th>5</th>\n",
       "      <td>542.185695</td>\n",
       "      <td>0.828546</td>\n",
       "      <td>22.155498</td>\n",
       "      <td>0.015425</td>\n",
       "      <td>10</td>\n",
       "      <td>6</td>\n",
       "      <td>250</td>\n",
       "      <td>{'max_depth': 10, 'max_features': 6, 'n_estima...</td>\n",
       "      <td>0.635442</td>\n",
       "      <td>0.634766</td>\n",
       "      <td>0.635104</td>\n",
       "      <td>3.378958e-04</td>\n",
       "      <td>4</td>\n",
       "      <td>0.639239</td>\n",
       "      <td>0.639114</td>\n",
       "      <td>0.639176</td>\n",
       "      <td>0.000063</td>\n",
       "    </tr>\n",
       "    <tr>\n",
       "      <th>6</th>\n",
       "      <td>513.189767</td>\n",
       "      <td>1.030070</td>\n",
       "      <td>13.914130</td>\n",
       "      <td>0.155516</td>\n",
       "      <td>10</td>\n",
       "      <td>10</td>\n",
       "      <td>150</td>\n",
       "      <td>{'max_depth': 10, 'max_features': 10, 'n_estim...</td>\n",
       "      <td>0.636714</td>\n",
       "      <td>0.636125</td>\n",
       "      <td>0.636420</td>\n",
       "      <td>2.948358e-04</td>\n",
       "      <td>1</td>\n",
       "      <td>0.641449</td>\n",
       "      <td>0.641043</td>\n",
       "      <td>0.641246</td>\n",
       "      <td>0.000203</td>\n",
       "    </tr>\n",
       "    <tr>\n",
       "      <th>7</th>\n",
       "      <td>589.943464</td>\n",
       "      <td>0.603131</td>\n",
       "      <td>12.578074</td>\n",
       "      <td>0.026347</td>\n",
       "      <td>10</td>\n",
       "      <td>10</td>\n",
       "      <td>250</td>\n",
       "      <td>{'max_depth': 10, 'max_features': 10, 'n_estim...</td>\n",
       "      <td>0.636416</td>\n",
       "      <td>0.635866</td>\n",
       "      <td>0.636141</td>\n",
       "      <td>2.750289e-04</td>\n",
       "      <td>2</td>\n",
       "      <td>0.641013</td>\n",
       "      <td>0.640721</td>\n",
       "      <td>0.640867</td>\n",
       "      <td>0.000146</td>\n",
       "    </tr>\n",
       "  </tbody>\n",
       "</table>\n",
       "</div>"
      ],
      "text/plain": [
       "   mean_fit_time  std_fit_time  mean_score_time  std_score_time  \\\n",
       "0     224.608480      0.576659        10.989478        0.043107   \n",
       "1     383.551546      0.876818        18.169273        0.175481   \n",
       "2     360.590924      0.254685        11.932371        0.069445   \n",
       "3     588.985505      0.279799        17.994905        0.027225   \n",
       "4     363.865292      0.261319        15.646440        0.065320   \n",
       "5     542.185695      0.828546        22.155498        0.015425   \n",
       "6     513.189767      1.030070        13.914130        0.155516   \n",
       "7     589.943464      0.603131        12.578074        0.026347   \n",
       "\n",
       "  param_max_depth param_max_features param_n_estimators  \\\n",
       "0               6                  6                150   \n",
       "1               6                  6                250   \n",
       "2               6                 10                150   \n",
       "3               6                 10                250   \n",
       "4              10                  6                150   \n",
       "5              10                  6                250   \n",
       "6              10                 10                150   \n",
       "7              10                 10                250   \n",
       "\n",
       "                                              params  split0_test_score  \\\n",
       "0  {'max_depth': 6, 'max_features': 6, 'n_estimat...           0.627446   \n",
       "1  {'max_depth': 6, 'max_features': 6, 'n_estimat...           0.627279   \n",
       "2  {'max_depth': 6, 'max_features': 10, 'n_estima...           0.627644   \n",
       "3  {'max_depth': 6, 'max_features': 10, 'n_estima...           0.627753   \n",
       "4  {'max_depth': 10, 'max_features': 6, 'n_estima...           0.635536   \n",
       "5  {'max_depth': 10, 'max_features': 6, 'n_estima...           0.635442   \n",
       "6  {'max_depth': 10, 'max_features': 10, 'n_estim...           0.636714   \n",
       "7  {'max_depth': 10, 'max_features': 10, 'n_estim...           0.636416   \n",
       "\n",
       "   split1_test_score  mean_test_score  std_test_score  rank_test_score  \\\n",
       "0           0.626743         0.627095    3.516815e-04                8   \n",
       "1           0.627279         0.627279    3.209789e-07                7   \n",
       "2           0.627360         0.627502    1.424150e-04                6   \n",
       "3           0.627718         0.627735    1.754413e-05                5   \n",
       "4           0.634848         0.635192    3.439239e-04                3   \n",
       "5           0.634766         0.635104    3.378958e-04                4   \n",
       "6           0.636125         0.636420    2.948358e-04                1   \n",
       "7           0.635866         0.636141    2.750289e-04                2   \n",
       "\n",
       "   split0_train_score  split1_train_score  mean_train_score  std_train_score  \n",
       "0            0.627181            0.627796          0.627488         0.000308  \n",
       "1            0.627112            0.628442          0.627777         0.000665  \n",
       "2            0.627468            0.628414          0.627941         0.000473  \n",
       "3            0.627663            0.628797          0.628230         0.000567  \n",
       "4            0.639619            0.639157          0.639388         0.000231  \n",
       "5            0.639239            0.639114          0.639176         0.000063  \n",
       "6            0.641449            0.641043          0.641246         0.000203  \n",
       "7            0.641013            0.640721          0.640867         0.000146  "
      ]
     },
     "execution_count": 32,
     "metadata": {},
     "output_type": "execute_result"
    }
   ],
   "source": [
    "from sklearn.ensemble import RandomForestClassifier\n",
    "\n",
    "rf = RandomForestClassifier()\n",
    "param_grid = {'max_features': [6,10],\n",
    "              'max_depth': [6,10],\n",
    "              'n_estimators':[150,250]}\n",
    "\n",
    "rf_grid = GridSearchCV(rf, param_grid=param_grid, cv=2, return_train_score=True, n_jobs=-1)\n",
    "rf_grid.fit(X_trainval, y_trainval)\n",
    "\n",
    "print(f\"best estimator and parameters: {rf_grid.best_estimator_}\")\n",
    "\n",
    "rf_results = pd.DataFrame(rf_grid.cv_results_)\n",
    "rf_results"
   ]
  },
  {
   "cell_type": "code",
   "execution_count": 33,
   "id": "c6701643",
   "metadata": {},
   "outputs": [
    {
     "name": "stdout",
     "output_type": "stream",
     "text": [
      "accuracy on trainval set: 0.639239\n",
      "accuracy on test set: 0.636364\n"
     ]
    }
   ],
   "source": [
    "print(\"accuracy on trainval set: %f\" % rf_grid.score(X_trainval, y_trainval))\n",
    "print(\"accuracy on test set: %f\" % rf_grid.score(X_test, y_test))"
   ]
  },
  {
   "cell_type": "code",
   "execution_count": 34,
   "id": "e71a6f8a",
   "metadata": {},
   "outputs": [
    {
     "data": {
      "text/plain": [
       "<AxesSubplot:xlabel='param_n_estimators'>"
      ]
     },
     "execution_count": 34,
     "metadata": {},
     "output_type": "execute_result"
    },
    {
     "data": {
      "image/png": "[encoded data removed]",
      "text/plain": [
       "<Figure size 432x288 with 2 Axes>"
      ]
     },
     "metadata": {
      "needs_background": "light"
     },
     "output_type": "display_data"
    }
   ],
   "source": [
    "res = pd.pivot_table(pd.DataFrame(rf_grid.cv_results_), values='mean_test_score', index='param_max_features', columns='param_n_estimators')\n",
    "pd.set_option(\"display.precision\",3)\n",
    "res = res.set_index(res.index.values.round(4))\n",
    "res\n",
    "\n",
    "sns.heatmap(res, annot=True, fmt=\".3g\", vmin=0.6)"
   ]
  },
  {
   "cell_type": "markdown",
   "id": "63d3ad55",
   "metadata": {},
   "source": [
    "### XGBoost"
   ]
  },
  {
   "cell_type": "code",
   "execution_count": 35,
   "id": "84cebcec",
   "metadata": {},
   "outputs": [],
   "source": [
    "import xgboost \n",
    "from xgboost import XGBClassifier\n",
    "from lightgbm import LGBMClassifier\n",
    "from catboost import CatBoostClassifier"
   ]
  },
  {
   "cell_type": "code",
   "execution_count": 36,
   "id": "f80b38b0",
   "metadata": {},
   "outputs": [
    {
     "name": "stdout",
     "output_type": "stream",
     "text": [
      "[19:02:44] WARNING: /Users/runner/miniforge3/conda-bld/xgboost-split_1645117948562/work/src/learner.cc:1115: Starting in XGBoost 1.3.0, the default evaluation metric used with the objective 'binary:logistic' was changed from 'error' to 'logloss'. Explicitly set eval_metric if you'd like to restore the old behavior.\n",
      "best estimator and parameters: XGBClassifier(base_score=0.5, booster='gbtree', colsample_bylevel=1,\n",
      "              colsample_bynode=1, colsample_bytree=1, enable_categorical=False,\n",
      "              gamma=0, gpu_id=-1, importance_type=None,\n",
      "              interaction_constraints='', learning_rate=0.3, max_delta_step=0,\n",
      "              max_depth=7, min_child_weight=1, missing=nan,\n",
      "              monotone_constraints='()', n_estimators=500, n_jobs=8,\n",
      "              num_parallel_tree=1, predictor='auto', random_state=0,\n",
      "              reg_alpha=0, reg_lambda=1, scale_pos_weight=1, subsample=1,\n",
      "              tree_method='exact', use_label_encoder=False,\n",
      "              validate_parameters=1, verbosity=None)\n"
     ]
    }
   ],
   "source": [
    "xgb = XGBClassifier(use_label_encoder=False)\n",
    "\n",
    "param_grid = {'max_depth':[6,7],'learning_rate':[0.03, 0.3], 'n_estimators':[250,500]}\n",
    "xgb_grid = GridSearchCV(xgb,param_grid=param_grid, cv=2, return_train_score=True, n_jobs=-1)\n",
    "xgb_grid.fit(X_trainval, y_trainval)\n",
    "\n",
    "print(f\"best estimator and parameters: {xgb_grid.best_estimator_}\")"
   ]
  },
  {
   "cell_type": "code",
   "execution_count": 37,
   "id": "6c2f15bf",
   "metadata": {},
   "outputs": [
    {
     "name": "stdout",
     "output_type": "stream",
     "text": [
      "accuracy on trainval set: 0.713743\n",
      "accuracy on test set: 0.670421\n"
     ]
    }
   ],
   "source": [
    "print(\"accuracy on trainval set: %f\" % xgb_grid.score(X_trainval, y_trainval))\n",
    "print(\"accuracy on test set: %f\" % xgb_grid.score(X_test, y_test))"
   ]
  },
  {
   "cell_type": "markdown",
   "id": "157dc881",
   "metadata": {},
   "source": [
    "### LightGBM"
   ]
  },
  {
   "cell_type": "code",
   "execution_count": 38,
   "id": "a92873b1",
   "metadata": {},
   "outputs": [
    {
     "name": "stdout",
     "output_type": "stream",
     "text": [
      "accuracy on trainval set: 0.642922\n",
      "accuracy on test set: 0.642247\n"
     ]
    }
   ],
   "source": [
    "lgbm = LGBMClassifier()\n",
    "lgbm.fit(X_trainval, y_trainval)\n",
    "print(\"accuracy on trainval set: %f\" % lgbm.score(X_trainval, y_trainval))\n",
    "print(\"accuracy on test set: %f\" % lgbm.score(X_test, y_test))"
   ]
  },
  {
   "cell_type": "markdown",
   "id": "273d6e14",
   "metadata": {},
   "source": [
    "### CatBoost"
   ]
  },
  {
   "cell_type": "code",
   "execution_count": 39,
   "id": "ca6d07a7",
   "metadata": {},
   "outputs": [
    {
     "name": "stdout",
     "output_type": "stream",
     "text": [
      "accuracy on trainval set: 0.663001\n",
      "accuracy on test set: 0.654435\n"
     ]
    }
   ],
   "source": [
    "catb = CatBoostClassifier(verbose=False)\n",
    "catb.fit(X_trainval, y_trainval)\n",
    "print(\"accuracy on trainval set: %f\" % catb.score(X_trainval, y_trainval))\n",
    "print(\"accuracy on test set: %f\" % catb.score(X_test, y_test))"
   ]
  },
  {
   "cell_type": "markdown",
   "id": "c37268ec",
   "metadata": {},
   "source": [
    "## Best Performance Metrics and Important features plot"
   ]
  },
  {
   "cell_type": "code",
   "execution_count": 40,
   "id": "973eb962",
   "metadata": {
    "scrolled": true
   },
   "outputs": [
    {
     "name": "stdout",
     "output_type": "stream",
     "text": [
      "XGBoost Classification\n",
      " [[ 91838  52237]\n",
      " [ 43440 102786]]\n",
      "0.670421390212228\n"
     ]
    },
    {
     "data": {
      "text/plain": [
       "<sklearn.metrics._plot.confusion_matrix.ConfusionMatrixDisplay at 0x7facca10eb80>"
      ]
     },
     "execution_count": 40,
     "metadata": {},
     "output_type": "execute_result"
    },
    {
     "data": {
      "image/png": "[encoded data removed]",
      "text/plain": [
       "<Figure size 144x144 with 2 Axes>"
      ]
     },
     "metadata": {
      "needs_background": "light"
     },
     "output_type": "display_data"
    }
   ],
   "source": [
    "from sklearn.metrics import confusion_matrix, plot_confusion_matrix\n",
    "\n",
    "xgb_predicted = xgb_grid.predict(X_test)\n",
    "confusion = confusion_matrix(y_test, xgb_predicted)\n",
    "\n",
    "print('XGBoost Classification\\n', confusion)\n",
    "\n",
    "print(xgb_grid.score(X_test, y_test))\n",
    "\n",
    "fig, ax = plt.subplots(figsize=(2, 2))\n",
    "plot_confusion_matrix(xgb_grid, X_test, y_test, cmap='gray_r', ax=ax)"
   ]
  },
  {
   "cell_type": "code",
   "execution_count": 41,
   "id": "f177c21f",
   "metadata": {},
   "outputs": [
    {
     "name": "stdout",
     "output_type": "stream",
     "text": [
      "Accuracy score of the XGB1 is 0.670\n",
      "Precision score of the XGB1 is 0.663\n",
      "Recall score of the XGB1 is 0.703\n"
     ]
    }
   ],
   "source": [
    "from sklearn.metrics import accuracy_score, precision_score, recall_score\n",
    "\n",
    "print('Accuracy score of the XGB1 is {:.3f}'.format(accuracy_score(y_test, xgb_predicted)))\n",
    "print('Precision score of the XGB1 is {:.3f}'.format(precision_score(y_test, xgb_predicted)))\n",
    "print('Recall score of the XGB1 is {:.3f}'.format(recall_score(y_test, xgb_predicted)))"
   ]
  },
  {
   "cell_type": "code",
   "execution_count": 42,
   "id": "fa80c31c",
   "metadata": {},
   "outputs": [
    {
     "name": "stdout",
     "output_type": "stream",
     "text": [
      "                    cols    imp\n",
      "4            source_type  0.357\n",
      "13  expiration_date_year  0.088\n",
      "3     source_screen_name  0.081\n",
      "8               language  0.060\n",
      "2      source_system_tab  0.053\n",
      "6              genre_ids  0.053\n",
      "0                   msno  0.050\n",
      "11        registered_via  0.043\n",
      "7            artist_name  0.040\n",
      "10                  city  0.038\n"
     ]
    },
    {
     "data": {
      "image/png": "[encoded data removed]",
      "text/plain": [
       "<Figure size 864x504 with 1 Axes>"
      ]
     },
     "metadata": {
      "needs_background": "light"
     },
     "output_type": "display_data"
    }
   ],
   "source": [
    "### Feature selection\n",
    "def xgb_feat_importance(m, df):\n",
    "    return pd.DataFrame({'cols':df.columns, 'imp':m.feature_importances_}).sort_values('imp', ascending=False)\n",
    "\n",
    "xgb_best = xgb_grid.best_estimator_\n",
    "fi = xgb_feat_importance(xgb_best, X_trainval); \n",
    "print(fi[:10])\n",
    "\n",
    "def plot_fi(fi):\n",
    "    return fi.plot('cols', 'imp', 'barh', figsize=(12,7), legend=False)\n",
    "plot_fi(fi[:30])\n",
    "plt.show()"
   ]
  },
  {
   "cell_type": "markdown",
   "id": "9d9ef81d",
   "metadata": {},
   "source": [
    "# Future Improvemt"
   ]
  },
  {
   "cell_type": "code",
   "execution_count": 43,
   "id": "eafbe368",
   "metadata": {},
   "outputs": [
    {
     "data": {
      "text/plain": [
       "Index(['msno', 'song_id', 'source_system_tab', 'source_screen_name',\n",
       "       'source_type', 'target', 'song_length', 'genre_ids', 'artist_name',\n",
       "       'language', 'name', 'city', 'bd', 'gender', 'registered_via',\n",
       "       'registration_init_time', 'expiration_date',\n",
       "       'registration_init_time_year', 'registration_init_time_month',\n",
       "       'registration_init_time_day', 'expiration_date_year',\n",
       "       'expiration_date_month', 'expiration_date_day'],\n",
       "      dtype='object')"
      ]
     },
     "execution_count": 43,
     "metadata": {},
     "output_type": "execute_result"
    }
   ],
   "source": [
    "all_data2 = all_data.copy()\n",
    "all_data2.columns"
   ]
  },
  {
   "cell_type": "code",
   "execution_count": 44,
   "id": "5e5a3681",
   "metadata": {},
   "outputs": [
    {
     "name": "stdout",
     "output_type": "stream",
     "text": [
      "<class 'pandas.core.frame.DataFrame'>\n",
      "Int64Index: 7257510 entries, 0 to 7377417\n",
      "Data columns (total 23 columns):\n",
      " #   Column                        Dtype         \n",
      "---  ------                        -----         \n",
      " 0   msno                          int64         \n",
      " 1   song_id                       int64         \n",
      " 2   source_system_tab             int64         \n",
      " 3   source_screen_name            int64         \n",
      " 4   source_type                   int64         \n",
      " 5   target                        int64         \n",
      " 6   song_length                   float64       \n",
      " 7   genre_ids                     int64         \n",
      " 8   artist_name                   int64         \n",
      " 9   language                      float64       \n",
      " 10  name                          int64         \n",
      " 11  city                          int64         \n",
      " 12  bd                            int64         \n",
      " 13  gender                        object        \n",
      " 14  registered_via                int64         \n",
      " 15  registration_init_time        datetime64[ns]\n",
      " 16  expiration_date               datetime64[ns]\n",
      " 17  registration_init_time_year   int64         \n",
      " 18  registration_init_time_month  int64         \n",
      " 19  registration_init_time_day    int64         \n",
      " 20  expiration_date_year          int64         \n",
      " 21  expiration_date_month         int64         \n",
      " 22  expiration_date_day           int64         \n",
      "dtypes: datetime64[ns](2), float64(2), int64(18), object(1)\n",
      "memory usage: 1.3+ GB\n"
     ]
    }
   ],
   "source": [
    "# registration_init_time\n",
    "all_data2['registration_init_time'] = pd.to_datetime(all_data2['registration_init_time'], format='%Y%m%d', errors='ignore').astype('datetime64[ns]')\n",
    "\n",
    "# expiration_date\n",
    "all_data2['expiration_date'] = pd.to_datetime(all_data2['expiration_date'], format='%Y%m%d', errors='ignore').astype('datetime64[ns]')\n",
    "\n",
    "all_data2.info()"
   ]
  },
  {
   "cell_type": "code",
   "execution_count": 45,
   "id": "04c4aa3b",
   "metadata": {},
   "outputs": [],
   "source": [
    "all_data2['membership_duration'] = all_data2['expiration_date']-all_data2['registration_init_time']"
   ]
  },
  {
   "cell_type": "code",
   "execution_count": 46,
   "id": "01f482a7",
   "metadata": {},
   "outputs": [
    {
     "data": {
      "text/html": [
       "<div>\n",
       "<style scoped>\n",
       "    .dataframe tbody tr th:only-of-type {\n",
       "        vertical-align: middle;\n",
       "    }\n",
       "\n",
       "    .dataframe tbody tr th {\n",
       "        vertical-align: top;\n",
       "    }\n",
       "\n",
       "    .dataframe thead th {\n",
       "        text-align: right;\n",
       "    }\n",
       "</style>\n",
       "<table border=\"1\" class=\"dataframe\">\n",
       "  <thead>\n",
       "    <tr style=\"text-align: right;\">\n",
       "      <th></th>\n",
       "      <th>msno_count</th>\n",
       "    </tr>\n",
       "  </thead>\n",
       "  <tbody>\n",
       "    <tr>\n",
       "      <th>0</th>\n",
       "      <td>587</td>\n",
       "    </tr>\n",
       "    <tr>\n",
       "      <th>1</th>\n",
       "      <td>217</td>\n",
       "    </tr>\n",
       "    <tr>\n",
       "      <th>2</th>\n",
       "      <td>107</td>\n",
       "    </tr>\n",
       "    <tr>\n",
       "      <th>3</th>\n",
       "      <td>15</td>\n",
       "    </tr>\n",
       "    <tr>\n",
       "      <th>4</th>\n",
       "      <td>219</td>\n",
       "    </tr>\n",
       "    <tr>\n",
       "      <th>...</th>\n",
       "      <td>...</td>\n",
       "    </tr>\n",
       "    <tr>\n",
       "      <th>30730</th>\n",
       "      <td>16</td>\n",
       "    </tr>\n",
       "    <tr>\n",
       "      <th>30731</th>\n",
       "      <td>276</td>\n",
       "    </tr>\n",
       "    <tr>\n",
       "      <th>30732</th>\n",
       "      <td>451</td>\n",
       "    </tr>\n",
       "    <tr>\n",
       "      <th>30733</th>\n",
       "      <td>259</td>\n",
       "    </tr>\n",
       "    <tr>\n",
       "      <th>30734</th>\n",
       "      <td>3</td>\n",
       "    </tr>\n",
       "  </tbody>\n",
       "</table>\n",
       "<p>30735 rows × 1 columns</p>\n",
       "</div>"
      ],
      "text/plain": [
       "       msno_count\n",
       "0             587\n",
       "1             217\n",
       "2             107\n",
       "3              15\n",
       "4             219\n",
       "...           ...\n",
       "30730          16\n",
       "30731         276\n",
       "30732         451\n",
       "30733         259\n",
       "30734           3\n",
       "\n",
       "[30735 rows x 1 columns]"
      ]
     },
     "execution_count": 46,
     "metadata": {},
     "output_type": "execute_result"
    }
   ],
   "source": [
    "msno_count = all_data2.groupby('msno',as_index=False)['msno'].count().rename(columns={'msno':'msno_count'})\n",
    "msno_count"
   ]
  },
  {
   "cell_type": "code",
   "execution_count": 47,
   "id": "32cf6f09",
   "metadata": {},
   "outputs": [
    {
     "data": {
      "text/html": [
       "<div>\n",
       "<style scoped>\n",
       "    .dataframe tbody tr th:only-of-type {\n",
       "        vertical-align: middle;\n",
       "    }\n",
       "\n",
       "    .dataframe tbody tr th {\n",
       "        vertical-align: top;\n",
       "    }\n",
       "\n",
       "    .dataframe thead th {\n",
       "        text-align: right;\n",
       "    }\n",
       "</style>\n",
       "<table border=\"1\" class=\"dataframe\">\n",
       "  <thead>\n",
       "    <tr style=\"text-align: right;\">\n",
       "      <th></th>\n",
       "      <th>msno</th>\n",
       "      <th>song_id</th>\n",
       "      <th>source_system_tab</th>\n",
       "      <th>source_screen_name</th>\n",
       "      <th>source_type</th>\n",
       "      <th>target</th>\n",
       "      <th>song_length</th>\n",
       "      <th>genre_ids</th>\n",
       "      <th>artist_name</th>\n",
       "      <th>language</th>\n",
       "      <th>...</th>\n",
       "      <th>registered_via</th>\n",
       "      <th>registration_init_time</th>\n",
       "      <th>expiration_date</th>\n",
       "      <th>registration_init_time_year</th>\n",
       "      <th>registration_init_time_month</th>\n",
       "      <th>registration_init_time_day</th>\n",
       "      <th>expiration_date_year</th>\n",
       "      <th>expiration_date_month</th>\n",
       "      <th>expiration_date_day</th>\n",
       "      <th>membership_duration</th>\n",
       "    </tr>\n",
       "  </thead>\n",
       "  <tbody>\n",
       "    <tr>\n",
       "      <th>5174108</th>\n",
       "      <td>0</td>\n",
       "      <td>167510</td>\n",
       "      <td>4</td>\n",
       "      <td>8</td>\n",
       "      <td>5</td>\n",
       "      <td>1</td>\n",
       "      <td>-0.567</td>\n",
       "      <td>344</td>\n",
       "      <td>2668</td>\n",
       "      <td>52.0</td>\n",
       "      <td>...</td>\n",
       "      <td>9</td>\n",
       "      <td>2006-02-18</td>\n",
       "      <td>2017-10-21</td>\n",
       "      <td>2006</td>\n",
       "      <td>2</td>\n",
       "      <td>18</td>\n",
       "      <td>2017</td>\n",
       "      <td>10</td>\n",
       "      <td>21</td>\n",
       "      <td>4263 days</td>\n",
       "    </tr>\n",
       "    <tr>\n",
       "      <th>803834</th>\n",
       "      <td>0</td>\n",
       "      <td>142263</td>\n",
       "      <td>4</td>\n",
       "      <td>8</td>\n",
       "      <td>4</td>\n",
       "      <td>0</td>\n",
       "      <td>-0.613</td>\n",
       "      <td>90</td>\n",
       "      <td>25479</td>\n",
       "      <td>-1.0</td>\n",
       "      <td>...</td>\n",
       "      <td>9</td>\n",
       "      <td>2006-02-18</td>\n",
       "      <td>2017-10-21</td>\n",
       "      <td>2006</td>\n",
       "      <td>2</td>\n",
       "      <td>18</td>\n",
       "      <td>2017</td>\n",
       "      <td>10</td>\n",
       "      <td>21</td>\n",
       "      <td>4263 days</td>\n",
       "    </tr>\n",
       "    <tr>\n",
       "      <th>643160</th>\n",
       "      <td>0</td>\n",
       "      <td>225151</td>\n",
       "      <td>1</td>\n",
       "      <td>12</td>\n",
       "      <td>11</td>\n",
       "      <td>0</td>\n",
       "      <td>0.281</td>\n",
       "      <td>120</td>\n",
       "      <td>1156</td>\n",
       "      <td>-1.0</td>\n",
       "      <td>...</td>\n",
       "      <td>9</td>\n",
       "      <td>2006-02-18</td>\n",
       "      <td>2017-10-21</td>\n",
       "      <td>2006</td>\n",
       "      <td>2</td>\n",
       "      <td>18</td>\n",
       "      <td>2017</td>\n",
       "      <td>10</td>\n",
       "      <td>21</td>\n",
       "      <td>4263 days</td>\n",
       "    </tr>\n",
       "    <tr>\n",
       "      <th>803833</th>\n",
       "      <td>0</td>\n",
       "      <td>344148</td>\n",
       "      <td>4</td>\n",
       "      <td>8</td>\n",
       "      <td>4</td>\n",
       "      <td>0</td>\n",
       "      <td>-0.336</td>\n",
       "      <td>344</td>\n",
       "      <td>25479</td>\n",
       "      <td>52.0</td>\n",
       "      <td>...</td>\n",
       "      <td>9</td>\n",
       "      <td>2006-02-18</td>\n",
       "      <td>2017-10-21</td>\n",
       "      <td>2006</td>\n",
       "      <td>2</td>\n",
       "      <td>18</td>\n",
       "      <td>2017</td>\n",
       "      <td>10</td>\n",
       "      <td>21</td>\n",
       "      <td>4263 days</td>\n",
       "    </tr>\n",
       "    <tr>\n",
       "      <th>3737965</th>\n",
       "      <td>0</td>\n",
       "      <td>284292</td>\n",
       "      <td>4</td>\n",
       "      <td>8</td>\n",
       "      <td>4</td>\n",
       "      <td>1</td>\n",
       "      <td>0.734</td>\n",
       "      <td>337</td>\n",
       "      <td>36226</td>\n",
       "      <td>3.0</td>\n",
       "      <td>...</td>\n",
       "      <td>9</td>\n",
       "      <td>2006-02-18</td>\n",
       "      <td>2017-10-21</td>\n",
       "      <td>2006</td>\n",
       "      <td>2</td>\n",
       "      <td>18</td>\n",
       "      <td>2017</td>\n",
       "      <td>10</td>\n",
       "      <td>21</td>\n",
       "      <td>4263 days</td>\n",
       "    </tr>\n",
       "    <tr>\n",
       "      <th>643159</th>\n",
       "      <td>0</td>\n",
       "      <td>323354</td>\n",
       "      <td>1</td>\n",
       "      <td>12</td>\n",
       "      <td>11</td>\n",
       "      <td>0</td>\n",
       "      <td>-0.442</td>\n",
       "      <td>150</td>\n",
       "      <td>1156</td>\n",
       "      <td>52.0</td>\n",
       "      <td>...</td>\n",
       "      <td>9</td>\n",
       "      <td>2006-02-18</td>\n",
       "      <td>2017-10-21</td>\n",
       "      <td>2006</td>\n",
       "      <td>2</td>\n",
       "      <td>18</td>\n",
       "      <td>2017</td>\n",
       "      <td>10</td>\n",
       "      <td>21</td>\n",
       "      <td>4263 days</td>\n",
       "    </tr>\n",
       "    <tr>\n",
       "      <th>643158</th>\n",
       "      <td>0</td>\n",
       "      <td>96882</td>\n",
       "      <td>1</td>\n",
       "      <td>12</td>\n",
       "      <td>11</td>\n",
       "      <td>0</td>\n",
       "      <td>-0.575</td>\n",
       "      <td>150</td>\n",
       "      <td>1156</td>\n",
       "      <td>52.0</td>\n",
       "      <td>...</td>\n",
       "      <td>9</td>\n",
       "      <td>2006-02-18</td>\n",
       "      <td>2017-10-21</td>\n",
       "      <td>2006</td>\n",
       "      <td>2</td>\n",
       "      <td>18</td>\n",
       "      <td>2017</td>\n",
       "      <td>10</td>\n",
       "      <td>21</td>\n",
       "      <td>4263 days</td>\n",
       "    </tr>\n",
       "    <tr>\n",
       "      <th>583431</th>\n",
       "      <td>0</td>\n",
       "      <td>154079</td>\n",
       "      <td>1</td>\n",
       "      <td>0</td>\n",
       "      <td>1</td>\n",
       "      <td>0</td>\n",
       "      <td>0.819</td>\n",
       "      <td>149</td>\n",
       "      <td>31114</td>\n",
       "      <td>52.0</td>\n",
       "      <td>...</td>\n",
       "      <td>9</td>\n",
       "      <td>2006-02-18</td>\n",
       "      <td>2017-10-21</td>\n",
       "      <td>2006</td>\n",
       "      <td>2</td>\n",
       "      <td>18</td>\n",
       "      <td>2017</td>\n",
       "      <td>10</td>\n",
       "      <td>21</td>\n",
       "      <td>4263 days</td>\n",
       "    </tr>\n",
       "    <tr>\n",
       "      <th>2813903</th>\n",
       "      <td>0</td>\n",
       "      <td>42228</td>\n",
       "      <td>4</td>\n",
       "      <td>8</td>\n",
       "      <td>4</td>\n",
       "      <td>0</td>\n",
       "      <td>1.077</td>\n",
       "      <td>344</td>\n",
       "      <td>34458</td>\n",
       "      <td>3.0</td>\n",
       "      <td>...</td>\n",
       "      <td>9</td>\n",
       "      <td>2006-02-18</td>\n",
       "      <td>2017-10-21</td>\n",
       "      <td>2006</td>\n",
       "      <td>2</td>\n",
       "      <td>18</td>\n",
       "      <td>2017</td>\n",
       "      <td>10</td>\n",
       "      <td>21</td>\n",
       "      <td>4263 days</td>\n",
       "    </tr>\n",
       "    <tr>\n",
       "      <th>2813906</th>\n",
       "      <td>0</td>\n",
       "      <td>100956</td>\n",
       "      <td>4</td>\n",
       "      <td>8</td>\n",
       "      <td>4</td>\n",
       "      <td>0</td>\n",
       "      <td>-0.592</td>\n",
       "      <td>344</td>\n",
       "      <td>38580</td>\n",
       "      <td>3.0</td>\n",
       "      <td>...</td>\n",
       "      <td>9</td>\n",
       "      <td>2006-02-18</td>\n",
       "      <td>2017-10-21</td>\n",
       "      <td>2006</td>\n",
       "      <td>2</td>\n",
       "      <td>18</td>\n",
       "      <td>2017</td>\n",
       "      <td>10</td>\n",
       "      <td>21</td>\n",
       "      <td>4263 days</td>\n",
       "    </tr>\n",
       "  </tbody>\n",
       "</table>\n",
       "<p>10 rows × 24 columns</p>\n",
       "</div>"
      ],
      "text/plain": [
       "         msno  song_id  source_system_tab  source_screen_name  source_type  \\\n",
       "5174108     0   167510                  4                   8            5   \n",
       "803834      0   142263                  4                   8            4   \n",
       "643160      0   225151                  1                  12           11   \n",
       "803833      0   344148                  4                   8            4   \n",
       "3737965     0   284292                  4                   8            4   \n",
       "643159      0   323354                  1                  12           11   \n",
       "643158      0    96882                  1                  12           11   \n",
       "583431      0   154079                  1                   0            1   \n",
       "2813903     0    42228                  4                   8            4   \n",
       "2813906     0   100956                  4                   8            4   \n",
       "\n",
       "         target  song_length  genre_ids  artist_name  language  ...  \\\n",
       "5174108       1       -0.567        344         2668      52.0  ...   \n",
       "803834        0       -0.613         90        25479      -1.0  ...   \n",
       "643160        0        0.281        120         1156      -1.0  ...   \n",
       "803833        0       -0.336        344        25479      52.0  ...   \n",
       "3737965       1        0.734        337        36226       3.0  ...   \n",
       "643159        0       -0.442        150         1156      52.0  ...   \n",
       "643158        0       -0.575        150         1156      52.0  ...   \n",
       "583431        0        0.819        149        31114      52.0  ...   \n",
       "2813903       0        1.077        344        34458       3.0  ...   \n",
       "2813906       0       -0.592        344        38580       3.0  ...   \n",
       "\n",
       "         registered_via  registration_init_time  expiration_date  \\\n",
       "5174108               9              2006-02-18       2017-10-21   \n",
       "803834                9              2006-02-18       2017-10-21   \n",
       "643160                9              2006-02-18       2017-10-21   \n",
       "803833                9              2006-02-18       2017-10-21   \n",
       "3737965               9              2006-02-18       2017-10-21   \n",
       "643159                9              2006-02-18       2017-10-21   \n",
       "643158                9              2006-02-18       2017-10-21   \n",
       "583431                9              2006-02-18       2017-10-21   \n",
       "2813903               9              2006-02-18       2017-10-21   \n",
       "2813906               9              2006-02-18       2017-10-21   \n",
       "\n",
       "        registration_init_time_year  registration_init_time_month  \\\n",
       "5174108                        2006                             2   \n",
       "803834                         2006                             2   \n",
       "643160                         2006                             2   \n",
       "803833                         2006                             2   \n",
       "3737965                        2006                             2   \n",
       "643159                         2006                             2   \n",
       "643158                         2006                             2   \n",
       "583431                         2006                             2   \n",
       "2813903                        2006                             2   \n",
       "2813906                        2006                             2   \n",
       "\n",
       "        registration_init_time_day expiration_date_year  \\\n",
       "5174108                         18                 2017   \n",
       "803834                          18                 2017   \n",
       "643160                          18                 2017   \n",
       "803833                          18                 2017   \n",
       "3737965                         18                 2017   \n",
       "643159                          18                 2017   \n",
       "643158                          18                 2017   \n",
       "583431                          18                 2017   \n",
       "2813903                         18                 2017   \n",
       "2813906                         18                 2017   \n",
       "\n",
       "         expiration_date_month  expiration_date_day  membership_duration  \n",
       "5174108                     10                   21            4263 days  \n",
       "803834                      10                   21            4263 days  \n",
       "643160                      10                   21            4263 days  \n",
       "803833                      10                   21            4263 days  \n",
       "3737965                     10                   21            4263 days  \n",
       "643159                      10                   21            4263 days  \n",
       "643158                      10                   21            4263 days  \n",
       "583431                      10                   21            4263 days  \n",
       "2813903                     10                   21            4263 days  \n",
       "2813906                     10                   21            4263 days  \n",
       "\n",
       "[10 rows x 24 columns]"
      ]
     },
     "execution_count": 47,
     "metadata": {},
     "output_type": "execute_result"
    }
   ],
   "source": [
    "all_data2.sort_values(by='msno').head(10)"
   ]
  },
  {
   "cell_type": "code",
   "execution_count": 48,
   "id": "77d6dcff",
   "metadata": {},
   "outputs": [
    {
     "data": {
      "text/html": [
       "<div>\n",
       "<style scoped>\n",
       "    .dataframe tbody tr th:only-of-type {\n",
       "        vertical-align: middle;\n",
       "    }\n",
       "\n",
       "    .dataframe tbody tr th {\n",
       "        vertical-align: top;\n",
       "    }\n",
       "\n",
       "    .dataframe thead th {\n",
       "        text-align: right;\n",
       "    }\n",
       "</style>\n",
       "<table border=\"1\" class=\"dataframe\">\n",
       "  <thead>\n",
       "    <tr style=\"text-align: right;\">\n",
       "      <th></th>\n",
       "      <th>msno</th>\n",
       "      <th>song_id</th>\n",
       "      <th>source_system_tab</th>\n",
       "      <th>source_screen_name</th>\n",
       "      <th>source_type</th>\n",
       "      <th>target</th>\n",
       "      <th>song_length</th>\n",
       "      <th>genre_ids</th>\n",
       "      <th>artist_name</th>\n",
       "      <th>language</th>\n",
       "      <th>...</th>\n",
       "      <th>registration_init_time</th>\n",
       "      <th>expiration_date</th>\n",
       "      <th>registration_init_time_year</th>\n",
       "      <th>registration_init_time_month</th>\n",
       "      <th>registration_init_time_day</th>\n",
       "      <th>expiration_date_year</th>\n",
       "      <th>expiration_date_month</th>\n",
       "      <th>expiration_date_day</th>\n",
       "      <th>membership_duration</th>\n",
       "      <th>msno_count</th>\n",
       "    </tr>\n",
       "  </thead>\n",
       "  <tbody>\n",
       "    <tr>\n",
       "      <th>5596999</th>\n",
       "      <td>0</td>\n",
       "      <td>36700</td>\n",
       "      <td>4</td>\n",
       "      <td>8</td>\n",
       "      <td>5</td>\n",
       "      <td>1</td>\n",
       "      <td>-0.258</td>\n",
       "      <td>344</td>\n",
       "      <td>25487</td>\n",
       "      <td>52.0</td>\n",
       "      <td>...</td>\n",
       "      <td>2006-02-18</td>\n",
       "      <td>2017-10-21</td>\n",
       "      <td>2006</td>\n",
       "      <td>2</td>\n",
       "      <td>18</td>\n",
       "      <td>2017</td>\n",
       "      <td>10</td>\n",
       "      <td>21</td>\n",
       "      <td>4263 days</td>\n",
       "      <td>587</td>\n",
       "    </tr>\n",
       "    <tr>\n",
       "      <th>5596856</th>\n",
       "      <td>0</td>\n",
       "      <td>300020</td>\n",
       "      <td>1</td>\n",
       "      <td>11</td>\n",
       "      <td>4</td>\n",
       "      <td>0</td>\n",
       "      <td>0.462</td>\n",
       "      <td>344</td>\n",
       "      <td>34142</td>\n",
       "      <td>3.0</td>\n",
       "      <td>...</td>\n",
       "      <td>2006-02-18</td>\n",
       "      <td>2017-10-21</td>\n",
       "      <td>2006</td>\n",
       "      <td>2</td>\n",
       "      <td>18</td>\n",
       "      <td>2017</td>\n",
       "      <td>10</td>\n",
       "      <td>21</td>\n",
       "      <td>4263 days</td>\n",
       "      <td>587</td>\n",
       "    </tr>\n",
       "    <tr>\n",
       "      <th>5596855</th>\n",
       "      <td>0</td>\n",
       "      <td>232842</td>\n",
       "      <td>1</td>\n",
       "      <td>11</td>\n",
       "      <td>4</td>\n",
       "      <td>0</td>\n",
       "      <td>0.259</td>\n",
       "      <td>344</td>\n",
       "      <td>37761</td>\n",
       "      <td>3.0</td>\n",
       "      <td>...</td>\n",
       "      <td>2006-02-18</td>\n",
       "      <td>2017-10-21</td>\n",
       "      <td>2006</td>\n",
       "      <td>2</td>\n",
       "      <td>18</td>\n",
       "      <td>2017</td>\n",
       "      <td>10</td>\n",
       "      <td>21</td>\n",
       "      <td>4263 days</td>\n",
       "      <td>587</td>\n",
       "    </tr>\n",
       "    <tr>\n",
       "      <th>5596854</th>\n",
       "      <td>0</td>\n",
       "      <td>331848</td>\n",
       "      <td>1</td>\n",
       "      <td>11</td>\n",
       "      <td>4</td>\n",
       "      <td>0</td>\n",
       "      <td>0.305</td>\n",
       "      <td>344</td>\n",
       "      <td>37020</td>\n",
       "      <td>3.0</td>\n",
       "      <td>...</td>\n",
       "      <td>2006-02-18</td>\n",
       "      <td>2017-10-21</td>\n",
       "      <td>2006</td>\n",
       "      <td>2</td>\n",
       "      <td>18</td>\n",
       "      <td>2017</td>\n",
       "      <td>10</td>\n",
       "      <td>21</td>\n",
       "      <td>4263 days</td>\n",
       "      <td>587</td>\n",
       "    </tr>\n",
       "    <tr>\n",
       "      <th>5596853</th>\n",
       "      <td>0</td>\n",
       "      <td>212660</td>\n",
       "      <td>1</td>\n",
       "      <td>11</td>\n",
       "      <td>4</td>\n",
       "      <td>0</td>\n",
       "      <td>-0.156</td>\n",
       "      <td>334</td>\n",
       "      <td>34077</td>\n",
       "      <td>3.0</td>\n",
       "      <td>...</td>\n",
       "      <td>2006-02-18</td>\n",
       "      <td>2017-10-21</td>\n",
       "      <td>2006</td>\n",
       "      <td>2</td>\n",
       "      <td>18</td>\n",
       "      <td>2017</td>\n",
       "      <td>10</td>\n",
       "      <td>21</td>\n",
       "      <td>4263 days</td>\n",
       "      <td>587</td>\n",
       "    </tr>\n",
       "    <tr>\n",
       "      <th>5596852</th>\n",
       "      <td>0</td>\n",
       "      <td>166692</td>\n",
       "      <td>1</td>\n",
       "      <td>11</td>\n",
       "      <td>4</td>\n",
       "      <td>0</td>\n",
       "      <td>0.154</td>\n",
       "      <td>334</td>\n",
       "      <td>36956</td>\n",
       "      <td>3.0</td>\n",
       "      <td>...</td>\n",
       "      <td>2006-02-18</td>\n",
       "      <td>2017-10-21</td>\n",
       "      <td>2006</td>\n",
       "      <td>2</td>\n",
       "      <td>18</td>\n",
       "      <td>2017</td>\n",
       "      <td>10</td>\n",
       "      <td>21</td>\n",
       "      <td>4263 days</td>\n",
       "      <td>587</td>\n",
       "    </tr>\n",
       "    <tr>\n",
       "      <th>5596851</th>\n",
       "      <td>0</td>\n",
       "      <td>288306</td>\n",
       "      <td>1</td>\n",
       "      <td>11</td>\n",
       "      <td>4</td>\n",
       "      <td>0</td>\n",
       "      <td>0.258</td>\n",
       "      <td>344</td>\n",
       "      <td>35267</td>\n",
       "      <td>3.0</td>\n",
       "      <td>...</td>\n",
       "      <td>2006-02-18</td>\n",
       "      <td>2017-10-21</td>\n",
       "      <td>2006</td>\n",
       "      <td>2</td>\n",
       "      <td>18</td>\n",
       "      <td>2017</td>\n",
       "      <td>10</td>\n",
       "      <td>21</td>\n",
       "      <td>4263 days</td>\n",
       "      <td>587</td>\n",
       "    </tr>\n",
       "    <tr>\n",
       "      <th>5596857</th>\n",
       "      <td>0</td>\n",
       "      <td>164372</td>\n",
       "      <td>1</td>\n",
       "      <td>11</td>\n",
       "      <td>4</td>\n",
       "      <td>0</td>\n",
       "      <td>0.051</td>\n",
       "      <td>344</td>\n",
       "      <td>2702</td>\n",
       "      <td>17.0</td>\n",
       "      <td>...</td>\n",
       "      <td>2006-02-18</td>\n",
       "      <td>2017-10-21</td>\n",
       "      <td>2006</td>\n",
       "      <td>2</td>\n",
       "      <td>18</td>\n",
       "      <td>2017</td>\n",
       "      <td>10</td>\n",
       "      <td>21</td>\n",
       "      <td>4263 days</td>\n",
       "      <td>587</td>\n",
       "    </tr>\n",
       "    <tr>\n",
       "      <th>5596850</th>\n",
       "      <td>0</td>\n",
       "      <td>337006</td>\n",
       "      <td>1</td>\n",
       "      <td>11</td>\n",
       "      <td>4</td>\n",
       "      <td>0</td>\n",
       "      <td>0.633</td>\n",
       "      <td>344</td>\n",
       "      <td>31114</td>\n",
       "      <td>3.0</td>\n",
       "      <td>...</td>\n",
       "      <td>2006-02-18</td>\n",
       "      <td>2017-10-21</td>\n",
       "      <td>2006</td>\n",
       "      <td>2</td>\n",
       "      <td>18</td>\n",
       "      <td>2017</td>\n",
       "      <td>10</td>\n",
       "      <td>21</td>\n",
       "      <td>4263 days</td>\n",
       "      <td>587</td>\n",
       "    </tr>\n",
       "    <tr>\n",
       "      <th>5596848</th>\n",
       "      <td>0</td>\n",
       "      <td>78769</td>\n",
       "      <td>1</td>\n",
       "      <td>11</td>\n",
       "      <td>4</td>\n",
       "      <td>1</td>\n",
       "      <td>-0.275</td>\n",
       "      <td>344</td>\n",
       "      <td>35440</td>\n",
       "      <td>3.0</td>\n",
       "      <td>...</td>\n",
       "      <td>2006-02-18</td>\n",
       "      <td>2017-10-21</td>\n",
       "      <td>2006</td>\n",
       "      <td>2</td>\n",
       "      <td>18</td>\n",
       "      <td>2017</td>\n",
       "      <td>10</td>\n",
       "      <td>21</td>\n",
       "      <td>4263 days</td>\n",
       "      <td>587</td>\n",
       "    </tr>\n",
       "  </tbody>\n",
       "</table>\n",
       "<p>10 rows × 25 columns</p>\n",
       "</div>"
      ],
      "text/plain": [
       "         msno  song_id  source_system_tab  source_screen_name  source_type  \\\n",
       "5596999     0    36700                  4                   8            5   \n",
       "5596856     0   300020                  1                  11            4   \n",
       "5596855     0   232842                  1                  11            4   \n",
       "5596854     0   331848                  1                  11            4   \n",
       "5596853     0   212660                  1                  11            4   \n",
       "5596852     0   166692                  1                  11            4   \n",
       "5596851     0   288306                  1                  11            4   \n",
       "5596857     0   164372                  1                  11            4   \n",
       "5596850     0   337006                  1                  11            4   \n",
       "5596848     0    78769                  1                  11            4   \n",
       "\n",
       "         target  song_length  genre_ids  artist_name  language  ...  \\\n",
       "5596999       1       -0.258        344        25487      52.0  ...   \n",
       "5596856       0        0.462        344        34142       3.0  ...   \n",
       "5596855       0        0.259        344        37761       3.0  ...   \n",
       "5596854       0        0.305        344        37020       3.0  ...   \n",
       "5596853       0       -0.156        334        34077       3.0  ...   \n",
       "5596852       0        0.154        334        36956       3.0  ...   \n",
       "5596851       0        0.258        344        35267       3.0  ...   \n",
       "5596857       0        0.051        344         2702      17.0  ...   \n",
       "5596850       0        0.633        344        31114       3.0  ...   \n",
       "5596848       1       -0.275        344        35440       3.0  ...   \n",
       "\n",
       "         registration_init_time  expiration_date  registration_init_time_year  \\\n",
       "5596999              2006-02-18       2017-10-21                         2006   \n",
       "5596856              2006-02-18       2017-10-21                         2006   \n",
       "5596855              2006-02-18       2017-10-21                         2006   \n",
       "5596854              2006-02-18       2017-10-21                         2006   \n",
       "5596853              2006-02-18       2017-10-21                         2006   \n",
       "5596852              2006-02-18       2017-10-21                         2006   \n",
       "5596851              2006-02-18       2017-10-21                         2006   \n",
       "5596857              2006-02-18       2017-10-21                         2006   \n",
       "5596850              2006-02-18       2017-10-21                         2006   \n",
       "5596848              2006-02-18       2017-10-21                         2006   \n",
       "\n",
       "        registration_init_time_month  registration_init_time_day  \\\n",
       "5596999                            2                          18   \n",
       "5596856                            2                          18   \n",
       "5596855                            2                          18   \n",
       "5596854                            2                          18   \n",
       "5596853                            2                          18   \n",
       "5596852                            2                          18   \n",
       "5596851                            2                          18   \n",
       "5596857                            2                          18   \n",
       "5596850                            2                          18   \n",
       "5596848                            2                          18   \n",
       "\n",
       "        expiration_date_year expiration_date_month  expiration_date_day  \\\n",
       "5596999                 2017                    10                   21   \n",
       "5596856                 2017                    10                   21   \n",
       "5596855                 2017                    10                   21   \n",
       "5596854                 2017                    10                   21   \n",
       "5596853                 2017                    10                   21   \n",
       "5596852                 2017                    10                   21   \n",
       "5596851                 2017                    10                   21   \n",
       "5596857                 2017                    10                   21   \n",
       "5596850                 2017                    10                   21   \n",
       "5596848                 2017                    10                   21   \n",
       "\n",
       "         membership_duration  msno_count  \n",
       "5596999            4263 days         587  \n",
       "5596856            4263 days         587  \n",
       "5596855            4263 days         587  \n",
       "5596854            4263 days         587  \n",
       "5596853            4263 days         587  \n",
       "5596852            4263 days         587  \n",
       "5596851            4263 days         587  \n",
       "5596857            4263 days         587  \n",
       "5596850            4263 days         587  \n",
       "5596848            4263 days         587  \n",
       "\n",
       "[10 rows x 25 columns]"
      ]
     },
     "execution_count": 48,
     "metadata": {},
     "output_type": "execute_result"
    }
   ],
   "source": [
    "pd.merge(all_data2, msno_count, left_on='msno',right_on=msno_count.index).sort_values(by='msno').head(10)"
   ]
  },
  {
   "cell_type": "code",
   "execution_count": 49,
   "id": "ea9cfc38",
   "metadata": {},
   "outputs": [],
   "source": [
    "all_data2 = pd.merge(all_data2, msno_count, left_on='msno',right_on=msno_count.index)"
   ]
  },
  {
   "cell_type": "markdown",
   "id": "322e7a51",
   "metadata": {},
   "source": [
    "### Adjusting different features"
   ]
  },
  {
   "cell_type": "code",
   "execution_count": 50,
   "id": "a481c23f",
   "metadata": {},
   "outputs": [
    {
     "name": "stdout",
     "output_type": "stream",
     "text": [
      "<class 'pandas.core.frame.DataFrame'>\n",
      "Int64Index: 7257510 entries, 0 to 7257509\n",
      "Data columns (total 12 columns):\n",
      " #   Column               Dtype          \n",
      "---  ------               -----          \n",
      " 0   msno_count           int64          \n",
      " 1   source_system_tab    int64          \n",
      " 2   source_screen_name   int64          \n",
      " 3   source_type          int64          \n",
      " 4   target               int64          \n",
      " 5   song_length          float64        \n",
      " 6   genre_ids            int64          \n",
      " 7   artist_name          int64          \n",
      " 8   language             float64        \n",
      " 9   city                 int64          \n",
      " 10  registered_via       int64          \n",
      " 11  membership_duration  timedelta64[ns]\n",
      "dtypes: float64(2), int64(9), timedelta64[ns](1)\n",
      "memory usage: 719.8 MB\n"
     ]
    }
   ],
   "source": [
    "features2 = ['msno_count','source_system_tab', 'source_screen_name', 'source_type',\n",
    "            'target', 'song_length', 'genre_ids', 'artist_name',\n",
    "            'language', 'city', 'registered_via','membership_duration']\n",
    "train2 = all_data2[features2].info()"
   ]
  },
  {
   "cell_type": "code",
   "execution_count": 51,
   "id": "67dfe93c",
   "metadata": {},
   "outputs": [],
   "source": [
    "all_data2['membership_duration'] = all_data2['membership_duration'].dt.days"
   ]
  },
  {
   "cell_type": "markdown",
   "id": "f5d1a74a",
   "metadata": {},
   "source": [
    "### Using 30% sample"
   ]
  },
  {
   "cell_type": "code",
   "execution_count": 52,
   "id": "bb6d4cc3",
   "metadata": {
    "scrolled": true
   },
   "outputs": [
    {
     "data": {
      "text/html": [
       "<div>\n",
       "<style scoped>\n",
       "    .dataframe tbody tr th:only-of-type {\n",
       "        vertical-align: middle;\n",
       "    }\n",
       "\n",
       "    .dataframe tbody tr th {\n",
       "        vertical-align: top;\n",
       "    }\n",
       "\n",
       "    .dataframe thead th {\n",
       "        text-align: right;\n",
       "    }\n",
       "</style>\n",
       "<table border=\"1\" class=\"dataframe\">\n",
       "  <thead>\n",
       "    <tr style=\"text-align: right;\">\n",
       "      <th></th>\n",
       "      <th>msno_count</th>\n",
       "      <th>source_system_tab</th>\n",
       "      <th>source_screen_name</th>\n",
       "      <th>source_type</th>\n",
       "      <th>target</th>\n",
       "      <th>song_length</th>\n",
       "      <th>genre_ids</th>\n",
       "      <th>artist_name</th>\n",
       "      <th>language</th>\n",
       "      <th>city</th>\n",
       "      <th>registered_via</th>\n",
       "      <th>membership_duration</th>\n",
       "    </tr>\n",
       "  </thead>\n",
       "  <tbody>\n",
       "    <tr>\n",
       "      <th>5440946</th>\n",
       "      <td>1032</td>\n",
       "      <td>1</td>\n",
       "      <td>8</td>\n",
       "      <td>4</td>\n",
       "      <td>0</td>\n",
       "      <td>-1.067</td>\n",
       "      <td>337</td>\n",
       "      <td>32771</td>\n",
       "      <td>3.0</td>\n",
       "      <td>12</td>\n",
       "      <td>9</td>\n",
       "      <td>2935</td>\n",
       "    </tr>\n",
       "    <tr>\n",
       "      <th>366657</th>\n",
       "      <td>985</td>\n",
       "      <td>4</td>\n",
       "      <td>8</td>\n",
       "      <td>4</td>\n",
       "      <td>1</td>\n",
       "      <td>-0.768</td>\n",
       "      <td>344</td>\n",
       "      <td>35808</td>\n",
       "      <td>3.0</td>\n",
       "      <td>1</td>\n",
       "      <td>7</td>\n",
       "      <td>1676</td>\n",
       "    </tr>\n",
       "    <tr>\n",
       "      <th>2319125</th>\n",
       "      <td>743</td>\n",
       "      <td>4</td>\n",
       "      <td>8</td>\n",
       "      <td>4</td>\n",
       "      <td>1</td>\n",
       "      <td>-0.144</td>\n",
       "      <td>344</td>\n",
       "      <td>18903</td>\n",
       "      <td>52.0</td>\n",
       "      <td>1</td>\n",
       "      <td>9</td>\n",
       "      <td>448</td>\n",
       "    </tr>\n",
       "    <tr>\n",
       "      <th>6357136</th>\n",
       "      <td>128</td>\n",
       "      <td>4</td>\n",
       "      <td>8</td>\n",
       "      <td>4</td>\n",
       "      <td>0</td>\n",
       "      <td>-0.232</td>\n",
       "      <td>344</td>\n",
       "      <td>38938</td>\n",
       "      <td>3.0</td>\n",
       "      <td>22</td>\n",
       "      <td>3</td>\n",
       "      <td>836</td>\n",
       "    </tr>\n",
       "    <tr>\n",
       "      <th>5817699</th>\n",
       "      <td>156</td>\n",
       "      <td>1</td>\n",
       "      <td>8</td>\n",
       "      <td>4</td>\n",
       "      <td>0</td>\n",
       "      <td>-0.087</td>\n",
       "      <td>337</td>\n",
       "      <td>37799</td>\n",
       "      <td>3.0</td>\n",
       "      <td>1</td>\n",
       "      <td>7</td>\n",
       "      <td>608</td>\n",
       "    </tr>\n",
       "  </tbody>\n",
       "</table>\n",
       "</div>"
      ],
      "text/plain": [
       "         msno_count  source_system_tab  source_screen_name  source_type  \\\n",
       "5440946        1032                  1                   8            4   \n",
       "366657          985                  4                   8            4   \n",
       "2319125         743                  4                   8            4   \n",
       "6357136         128                  4                   8            4   \n",
       "5817699         156                  1                   8            4   \n",
       "\n",
       "         target  song_length  genre_ids  artist_name  language  city  \\\n",
       "5440946       0       -1.067        337        32771       3.0    12   \n",
       "366657        1       -0.768        344        35808       3.0     1   \n",
       "2319125       1       -0.144        344        18903      52.0     1   \n",
       "6357136       0       -0.232        344        38938       3.0    22   \n",
       "5817699       0       -0.087        337        37799       3.0     1   \n",
       "\n",
       "         registered_via  membership_duration  \n",
       "5440946               9                 2935  \n",
       "366657                7                 1676  \n",
       "2319125               9                  448  \n",
       "6357136               3                  836  \n",
       "5817699               7                  608  "
      ]
     },
     "execution_count": 52,
     "metadata": {},
     "output_type": "execute_result"
    }
   ],
   "source": [
    "train_data2 = all_data2[features2].sample(frac = 0.3)\n",
    "train_data2.head()"
   ]
  },
  {
   "cell_type": "code",
   "execution_count": 53,
   "id": "5108c711",
   "metadata": {},
   "outputs": [],
   "source": [
    "X2 = train_data2.drop(columns='target')\n",
    "y2 = train_data2.target\n",
    "\n",
    "from sklearn.model_selection import train_test_split\n",
    "X_trainval2, X_test2, y_trainval2, y_test2 = train_test_split(X2, y2, stratify=y2, random_state=0, test_size=0.2)\n",
    "X_train2, X_val2, y_train2, y_val2 = train_test_split(X_trainval2, y_trainval2, stratify=y_trainval2, random_state=0, test_size=0.2)"
   ]
  },
  {
   "cell_type": "code",
   "execution_count": 54,
   "id": "a6524fb4",
   "metadata": {
    "scrolled": false
   },
   "outputs": [
    {
     "name": "stdout",
     "output_type": "stream",
     "text": [
      "(1393441, 11) (1393441,) (348361, 11) (348361,)\n"
     ]
    }
   ],
   "source": [
    "print(X_train2.shape, y_train2.shape, X_val2.shape, y_val2.shape)"
   ]
  },
  {
   "cell_type": "code",
   "execution_count": 55,
   "id": "4e6325f4",
   "metadata": {},
   "outputs": [
    {
     "name": "stdout",
     "output_type": "stream",
     "text": [
      "{'max_depth': 11, 'max_features': 8}\n",
      "accuracy on trainval set: 0.646204\n",
      "accuracy on test set: 0.643317\n"
     ]
    }
   ],
   "source": [
    "## random forest 2\n",
    "param_grid = {'max_features': [6,7,8],\n",
    "              'max_depth': [11]}\n",
    "\n",
    "rf = RandomForestClassifier()\n",
    "\n",
    "rf_grid2 = GridSearchCV(rf, param_grid=param_grid, cv=2, return_train_score=True,n_jobs=-1)\n",
    "rf_grid2.fit(X_trainval2, y_trainval2)\n",
    "\n",
    "print(rf_grid2.best_params_)\n",
    "print(\"accuracy on trainval set: %f\" % rf_grid2.score(X_trainval2, y_trainval2))\n",
    "print(\"accuracy on test set: %f\" % rf_grid2.score(X_test2, y_test2))"
   ]
  },
  {
   "cell_type": "code",
   "execution_count": 56,
   "id": "091453f6",
   "metadata": {},
   "outputs": [
    {
     "name": "stdout",
     "output_type": "stream",
     "text": [
      "[19:27:24] WARNING: /Users/runner/miniforge3/conda-bld/xgboost-split_1645117948562/work/src/learner.cc:1115: Starting in XGBoost 1.3.0, the default evaluation metric used with the objective 'binary:logistic' was changed from 'error' to 'logloss'. Explicitly set eval_metric if you'd like to restore the old behavior.\n",
      "{'max_depth': 10}\n",
      "accuracy on trainval set: 0.714016\n",
      "accuracy on test set: 0.684311\n"
     ]
    }
   ],
   "source": [
    "## XGBoost 2\n",
    "xgb = XGBClassifier(use_label_encoder=False)\n",
    "\n",
    "param_grid = {'max_depth':[9,10]}\n",
    "xgb_grid2 = GridSearchCV(xgb,param_grid=param_grid, cv=2, return_train_score=True, n_jobs=-1)\n",
    "xgb_grid2.fit(X_trainval2, y_trainval2)\n",
    "\n",
    "print(xgb_grid2.best_params_)\n",
    "print(\"accuracy on trainval set: %f\" % xgb_grid2.score(X_trainval2, y_trainval2))\n",
    "print(\"accuracy on test set: %f\" % xgb_grid2.score(X_test2, y_test2))"
   ]
  },
  {
   "cell_type": "code",
   "execution_count": 57,
   "id": "c401ac2b",
   "metadata": {},
   "outputs": [
    {
     "name": "stdout",
     "output_type": "stream",
     "text": [
      "accuracy on trainval set: 0.646990\n",
      "accuracy on test set: 0.646622\n"
     ]
    }
   ],
   "source": [
    "## LGBM 2\n",
    "lgbm2 = LGBMClassifier()\n",
    "\n",
    "lgbm2.fit(X_trainval2, y_trainval2)\n",
    "print(\"accuracy on trainval set: %f\" % lgbm2.score(X_trainval2, y_trainval2))\n",
    "print(\"accuracy on test set: %f\" % lgbm2.score(X_test2, y_test2))"
   ]
  },
  {
   "cell_type": "code",
   "execution_count": 58,
   "id": "c526d521",
   "metadata": {},
   "outputs": [
    {
     "name": "stdout",
     "output_type": "stream",
     "text": [
      "accuracy on trainval set: 0.669446\n",
      "accuracy on test set: 0.664550\n"
     ]
    }
   ],
   "source": [
    "## CatBoost 2\n",
    "catb2 = CatBoostClassifier(verbose=False)\n",
    "catb2.fit(X_trainval2, y_trainval2)\n",
    "print(\"accuracy on trainval set: %f\" % catb2.score(X_trainval2, y_trainval2))\n",
    "print(\"accuracy on test set: %f\" % catb2.score(X_test2, y_test2))"
   ]
  },
  {
   "cell_type": "markdown",
   "id": "b8e30542",
   "metadata": {},
   "source": [
    "## Best Performance Metrics and Important features plot"
   ]
  },
  {
   "cell_type": "code",
   "execution_count": 59,
   "id": "d5ceee12",
   "metadata": {},
   "outputs": [
    {
     "name": "stdout",
     "output_type": "stream",
     "text": [
      "XGBoost Classification\n",
      " [[140344  75638]\n",
      " [ 61829 157640]]\n",
      "0.6843112083793584\n"
     ]
    },
    {
     "data": {
      "text/plain": [
       "<sklearn.metrics._plot.confusion_matrix.ConfusionMatrixDisplay at 0x7fadd8096fa0>"
      ]
     },
     "execution_count": 59,
     "metadata": {},
     "output_type": "execute_result"
    },
    {
     "data": {
      "image/png": "[encoded data removed]",
      "text/plain": [
       "<Figure size 144x144 with 2 Axes>"
      ]
     },
     "metadata": {
      "needs_background": "light"
     },
     "output_type": "display_data"
    }
   ],
   "source": [
    "from sklearn.metrics import confusion_matrix, plot_confusion_matrix\n",
    "xgb_predicted2 = xgb_grid2.predict(X_test2)\n",
    "confusion2 = confusion_matrix(y_test2, xgb_predicted2)\n",
    "\n",
    "print('XGBoost Classification\\n', confusion2)\n",
    "\n",
    "print(xgb_grid2.score(X_test2, y_test2))\n",
    "\n",
    "fig, ax = plt.subplots(figsize=(2, 2))\n",
    "plot_confusion_matrix(xgb_grid2, X_test2, y_test2, cmap='gray_r', ax=ax)"
   ]
  },
  {
   "cell_type": "code",
   "execution_count": 60,
   "id": "8b95ba95",
   "metadata": {},
   "outputs": [
    {
     "name": "stdout",
     "output_type": "stream",
     "text": [
      "Accuracy score of the XGB2 is 0.684\n",
      "Precision score of the XGB2 is 0.676\n",
      "Recall score of the XGB2 is 0.718\n"
     ]
    }
   ],
   "source": [
    "from sklearn.metrics import accuracy_score, precision_score, recall_score\n",
    "\n",
    "print('Accuracy score of the XGB2 is {:.3f}'.format(accuracy_score(y_test2, xgb_predicted2)))\n",
    "print('Precision score of the XGB2 is {:.3f}'.format(precision_score(y_test2, xgb_predicted2)))\n",
    "print('Recall score of the XGB2 is {:.3f}'.format(recall_score(y_test2, xgb_predicted2)))"
   ]
  },
  {
   "cell_type": "code",
   "execution_count": 62,
   "id": "aa70dbf8",
   "metadata": {
    "scrolled": true
   },
   "outputs": [
    {
     "name": "stdout",
     "output_type": "stream",
     "text": [
      "                   cols    imp\n",
      "3           source_type  0.444\n",
      "2    source_screen_name  0.100\n",
      "0            msno_count  0.065\n",
      "10  membership_duration  0.059\n",
      "7              language  0.057\n",
      "5             genre_ids  0.052\n",
      "9        registered_via  0.049\n",
      "1     source_system_tab  0.047\n",
      "8                  city  0.046\n",
      "6           artist_name  0.043\n"
     ]
    },
    {
     "data": {
      "image/png": "[encoded data removed]",
      "text/plain": [
       "<Figure size 864x360 with 1 Axes>"
      ]
     },
     "metadata": {
      "needs_background": "light"
     },
     "output_type": "display_data"
    }
   ],
   "source": [
    "### Features importance\n",
    "def xgb_feat_importance(m, df):\n",
    "    return pd.DataFrame({'cols':df.columns, 'imp':m.feature_importances_}).sort_values('imp', ascending=False)\n",
    "\n",
    "xgb_best2 = xgb_grid2.best_estimator_\n",
    "fi = xgb_feat_importance(xgb_best2, X_trainval2); \n",
    "print(fi[:10])\n",
    "\n",
    "def plot_fi(fi):\n",
    "    return fi.plot('cols', 'imp', 'barh', figsize=(12,5), legend=False)\n",
    "plot_fi(fi[:30])\n",
    "plt.show()"
   ]
  }
 ],
 "metadata": {
  "kernelspec": {
   "display_name": "Python 3",
   "language": "python",
   "name": "python3"
  },
  "language_info": {
   "codemirror_mode": {
    "name": "ipython",
    "version": 3
   },
   "file_extension": ".py",
   "mimetype": "text/x-python",
   "name": "python",
   "nbconvert_exporter": "python",
   "pygments_lexer": "ipython3",
   "version": "3.8.8"
  }
 },
 "nbformat": 4,
 "nbformat_minor": 5
}
